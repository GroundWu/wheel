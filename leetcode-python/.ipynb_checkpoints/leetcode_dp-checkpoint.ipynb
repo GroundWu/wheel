{
 "cells": [
  {
   "cell_type": "code",
   "execution_count": 1,
   "metadata": {},
   "outputs": [],
   "source": [
    "from typing import List"
   ]
  },
  {
   "cell_type": "markdown",
   "metadata": {},
   "source": [
    "# 动态规划\n",
    "\n",
    "## 53. 最大子序和\n",
    "给定一个整数数组 nums ，找到一个具有最大和的连续子数组（子数组最少包含一个元素），返回其最大和。   \n",
    "\n",
    "示例:   \n",
    "```\n",
    "输入: [-2,1,-3,4,-1,2,1,-5,4],   \n",
    "输出: 6   \n",
    "解释: 连续子数组 [4,-1,2,1] 的和最大，为 6。   \n",
    "```\n",
    "来源：力扣（LeetCode）   \n",
    "链接：https://leetcode-cn.com/problems/maximum-subarray   \n",
    "著作权归领扣网络所有。商业转载请联系官方授权，非商业转载请注明出处。   "
   ]
  },
  {
   "cell_type": "code",
   "execution_count": 2,
   "metadata": {},
   "outputs": [],
   "source": [
    "class Solution_53:\n",
    "    def maxSubArray(self, nums: List[int]) -> int:\n",
    "        n = len(nums)\n",
    "        ans = nums[0]\n",
    "        dp = [nums[0]]\n",
    "        for i in range(1,n):\n",
    "            tmp = dp[-1] + nums[i]\n",
    "            if nums[i] > tmp:\n",
    "                dp.append(nums[i])\n",
    "            else:\n",
    "                dp.append(tmp)\n",
    "            if dp[-1] > ans:\n",
    "                ans = dp[-1]\n",
    "        return ans"
   ]
  },
  {
   "cell_type": "markdown",
   "metadata": {},
   "source": [
    "## 题解\n",
    "通过设置一个dp数组，要求的最大和其实就是dp[0],dp[1]...dp[n-1]中的最大值，下面想办法求解dp数组。   \n",
    "作如下考虑：因为dp[i]要求是必须以A[i]结尾的连续序列，那么只有两种情况：   \n",
    "\n",
    "1. 这个最大和的连续序列只有一个元素，以A[i]开始，A[i]结尾   \n",
    "2. 这个最大和的连续序列多个元素，从前面A[p]开始（p<i),一直到A[i]结束。\n",
    "\n",
    "对于第一种情况，最大和就是A[i]本身。 第二张，最大和是dp[i-1]+A[i]。   \n",
    "于是得到方程：**dp[i]=max(dp[i-1]+A[i],A[i])** 。 边界dp[0]=0.   \n",
    "于是从小到大输出dp数组，找到他的最大值，即为最大子序列和。   "
   ]
  },
  {
   "cell_type": "markdown",
   "metadata": {},
   "source": [
    "# 70。爬楼梯   \n",
    "假设你正在爬楼梯。需要 n 阶你才能到达楼顶。   \n",
    "\n",
    "每次你可以爬 1 或 2 个台阶。你有多少种不同的方法可以爬到楼顶呢？   \n",
    "\n",
    "注意：给定 n 是一个正整数。   \n",
    "\n",
    "示例 1：   \n",
    "```\n",
    "输入： 2  \n",
    "输出： 2   \n",
    "解释： 有两种方法可以爬到楼顶。   \n",
    "1.  1 阶 + 1 阶  \n",
    "2.  2 阶   \n",
    "```\n",
    "示例 2：   \n",
    "```\n",
    "输入： 3   \n",
    "输出： 3   \n",
    "解释： 有三种方法可以爬到楼顶。   \n",
    "1.  1 阶 + 1 阶 + 1 阶   \n",
    "2.  1 阶 + 2 阶   \n",
    "3.  2 阶 + 1 阶   \n",
    "``` \n",
    "来源：力扣（LeetCode）   \n",
    "链接：https://leetcode-cn.com/problems/climbing-stairs   \n",
    "著作权归领扣网络所有。商业转载请联系官方授权，非商业转载请注明出处。   "
   ]
  },
  {
   "cell_type": "code",
   "execution_count": 3,
   "metadata": {},
   "outputs": [],
   "source": [
    "class Solution_70:\n",
    "    def climbStairs(self, n: int) -> int:\n",
    "        if n==0:\n",
    "            return 0\n",
    "        dp = []\n",
    "        # n==1\n",
    "        dp.append(1)\n",
    "        # n==2\n",
    "        dp.append(2)\n",
    "        # n>2\n",
    "        for i in range(n-2):\n",
    "            dp.append(dp[-1]+dp[-2])\n",
    "            \n",
    "        return dp[n-1]"
   ]
  },
  {
   "cell_type": "markdown",
   "metadata": {},
   "source": [
    "# 121. 买卖股票的最佳时机\n",
    "给定一个数组，它的第 i 个元素是一支给定股票第 i 天的价格。   \n",
    "\n",
    "如果你最多只允许完成一笔交易（即买入和卖出一支股票），设计一个算法来计算你所能获取的最大利润。   \n",
    "\n",
    "注意你不能在买入股票前卖出股票。   \n",
    "\n",
    "示例 1:   \n",
    "```\n",
    "输入: [7,1,5,3,6,4]   \n",
    "输出: 5   \n",
    "解释: 在第 2 天（股票价格 = 1）的时候买入，在第 5 天（股票价格 = 6）的时候卖出，最大利润 = 6-1 = 5 。   \n",
    "    注意利润不能是 7-1 = 6, 因为卖出价格需要大于买入价格。   \n",
    "```\n",
    "示例 2:\n",
    "```\n",
    "输入: [7,6,4,3,1]    \n",
    "输出: 0   \n",
    "解释: 在这种情况下, 没有交易完成, 所以最大利润为 0。   \n",
    "```\n",
    "来源：力扣（LeetCode）   \n",
    "链接：https://leetcode-cn.com/problems/best-time-to-buy-and-sell-stock   \n",
    "著作权归领扣网络所有。商业转载请联系官方授权，非商业转载请注明出处。   "
   ]
  },
  {
   "cell_type": "code",
   "execution_count": 5,
   "metadata": {},
   "outputs": [],
   "source": [
    "class Solution_45:\n",
    "    # 与53. 最大子序列和的思路类似\n",
    "    def maxProfit(self, prices: List[int]) -> int:\n",
    "        n = len(prices)\n",
    "        ans = 0\n",
    "        dp = [0]\n",
    "        \n",
    "        for i in range(1,n):\n",
    "            tmp = prices[i] - prices[i-1]\n",
    "            if tmp > 0 :\n",
    "                dp.append(max(dp[i-1]+tmp,tmp))\n",
    "            else:\n",
    "                dp.append(max(dp[i-1]+tmp,0))\n",
    "            \n",
    "            if dp[-1] > ans:\n",
    "                ans = dp[-1]\n",
    "        return ans"
   ]
  },
  {
   "cell_type": "code",
   "execution_count": null,
   "metadata": {},
   "outputs": [],
   "source": []
  }
 ],
 "metadata": {
  "kernelspec": {
   "display_name": "Python 3",
   "language": "python",
   "name": "python3"
  },
  "language_info": {
   "codemirror_mode": {
    "name": "ipython",
    "version": 3
   },
   "file_extension": ".py",
   "mimetype": "text/x-python",
   "name": "python",
   "nbconvert_exporter": "python",
   "pygments_lexer": "ipython3",
   "version": "3.7.3"
  }
 },
 "nbformat": 4,
 "nbformat_minor": 2
}
