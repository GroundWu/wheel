{
 "cells": [
  {
   "cell_type": "markdown",
   "metadata": {},
   "source": [
    "# 15.三数之和"
   ]
  },
  {
   "cell_type": "markdown",
   "metadata": {},
   "source": [
    "给定一个包含 n 个整数的数组 nums，判断 nums 中是否存在三个元素 a，b，c ，使得 a + b + c = 0 ？找出所有满足条件且不重复的三元组。\n",
    "注意：答案中不可以包含重复的三元组。   \n",
    "\n",
    ">例如, 给定数组 nums = [-1, 0, 1, 2, -1, -4]，\n",
    ">\n",
    ">满足要求的三元组集合为：   \n",
    ">[   \n",
    ">   [-1, 0, 1],   \n",
    ">   [-1, -1, 2]   \n",
    ">]   \n",
    "给定一个包含 n 个整数的数组 nums，判断 nums 中是否存在三个元素 a，b，c ，使得 a + b + c = 0 ？找出所有满足条件且不重复的三元组。\n",
    "\n",
    "来源：力扣（LeetCode）   \n",
    "链接：https://leetcode-cn.com/problems/3sum   "
   ]
  },
  {
   "cell_type": "markdown",
   "metadata": {},
   "source": []
  },
  {
   "cell_type": "code",
   "execution_count": 1,
   "metadata": {},
   "outputs": [],
   "source": [
    "from typing import List"
   ]
  },
  {
   "cell_type": "code",
   "execution_count": 2,
   "metadata": {},
   "outputs": [],
   "source": [
    "# 超时\n",
    "class Solution1:\n",
    "    def threeSum(self, nums: List[int]) -> List[List[int]]:\n",
    "        arr_len = len(nums)\n",
    "        \n",
    "        two_sum = []\n",
    "        res = []\n",
    "        index = []\n",
    "        for i in range(arr_len-1):\n",
    "            for j in range(i,arr_len):\n",
    "                if i==j:\n",
    "                    continue\n",
    "                two_sum.append((i,j,(nums[i]+nums[j])))\n",
    "                \n",
    "        for k in range(arr_len):\n",
    "            for p in range(len(two_sum)):\n",
    "                if (nums[k]+two_sum[p][2]==0) and k!=two_sum[p][0] and k!=two_sum[p][1]:\n",
    "                    l = sorted([nums[k],nums[two_sum[p][0]],nums[two_sum[p][1]]])\n",
    "                    if l not in res:\n",
    "                        res.append(l)\n",
    "                    \n",
    "        return res"
   ]
  },
  {
   "cell_type": "code",
   "execution_count": 13,
   "metadata": {},
   "outputs": [],
   "source": [
    "# 排序+双指针\n",
    "class Solution2:\n",
    "    def threeSum(self, nums: List[int]) -> List[List[int]]:\n",
    "        sorted_nums = sorted(nums)\n",
    "        arr_len = len(nums)\n",
    "        i,j,k= 1,arr_len-1,0\n",
    "        \n",
    "        res = []\n",
    "        while k<(arr_len-2):\n",
    "            if sorted_nums[k] >0:\n",
    "                break\n",
    "            if k>0 and sorted_nums[k-1] == sorted_nums[k]:\n",
    "                k+=1\n",
    "                i=k+1\n",
    "                j=arr_len-1\n",
    "                continue\n",
    "                \n",
    "            while i<j:\n",
    "                s = sorted_nums[k] + sorted_nums[i] + sorted_nums[j]\n",
    "                if s==0:\n",
    "                    res.append([sorted_nums[k],sorted_nums[i],sorted_nums[j]])\n",
    "                    i += 1\n",
    "                    j -= 1\n",
    "                    while i<j and sorted_nums[i]==sorted_nums[i-1]: i+=1\n",
    "                    while i<j and sorted_nums[j]==sorted_nums[j+1]: j-=1\n",
    "                elif s<0:\n",
    "                    i += 1\n",
    "                    \n",
    "                else: \n",
    "                    j -= 1\n",
    "                    \n",
    "            k+=1\n",
    "            i = k+1\n",
    "            j = arr_len-1\n",
    "        return res"
   ]
  },
  {
   "cell_type": "code",
   "execution_count": 14,
   "metadata": {},
   "outputs": [],
   "source": [
    "s2 = Solution2()"
   ]
  },
  {
   "cell_type": "code",
   "execution_count": 15,
   "metadata": {},
   "outputs": [],
   "source": [
    "nums = [-1,0,1,2,-1,-4]"
   ]
  },
  {
   "cell_type": "code",
   "execution_count": 16,
   "metadata": {},
   "outputs": [
    {
     "data": {
      "text/plain": [
       "[[-1, -1, 2], [-1, 0, 1]]"
      ]
     },
     "execution_count": 16,
     "metadata": {},
     "output_type": "execute_result"
    }
   ],
   "source": [
    "s2.threeSum(nums)"
   ]
  },
  {
   "cell_type": "markdown",
   "metadata": {},
   "source": [
    "题解：\n",
    "双指针法铺垫： 先将给定 nums 排序，复杂度为 O(NlogN)O(NlogN)。   \n",
    "双指针法思路： 固定 33 个指针中最左（最小）数字的指针 k，双指针 i，j 分设在数组索引 (k, len(nums))(k,len(nums)) 两端，通过双指针交替向中间移动，记录对于每个固定指针 k 的所有满足 nums[k] + nums[i] + nums[j] == 0 的 i,j 组合：   \n",
    "当 nums[k] > 0 时直接break跳出：因为 nums[j] >= nums[i] >= nums[k] > 0，即 33 个数字都大于 00 ，在此固定指针 k 之后不可能再找到结果了。    \n",
    "当 k > 0且nums[k] == nums[k - 1]时即跳过此元素nums[k]：因为已经将 nums[k - 1] 的所有组合加入到结果中，本次双指针搜索只会得到重复组合。    \n",
    "i，j 分设在数组索引 (k, len(nums))(k,len(nums)) 两端，当i < j时循环计算s = nums[k] + nums[i] + nums[j]，并按照以下规则执行双指针移动：    \n",
    "当s < 0时，i += 1并跳过所有重复的nums[i]；   \n",
    "当s > 0时，j -= 1并跳过所有重复的nums[j]；  \n",
    "当s == 0时，记录组合[k, i, j]至res，执行i += 1和j -= 1并跳过所有重复的nums[i]和nums[j]，防止记录到重复组合。   \n",
    "复杂度分析：   \n",
    "时间复杂度 O(N^2)   \n",
    "O(N^2)：其中固定指针k循环复杂度 O(N)O(N)，双指针 i，j 复杂度 O(N)O(N)。   \n",
    "空间复杂度 O(1)   \n",
    "O(1)：指针使用常数大小的额外空间。   \n",
    "\n",
    "作者：jyd   \n",
    "链接：https://leetcode-cn.com/problems/3sum/solution/3sumpai-xu-shuang-zhi-zhen-yi-dong-by-jyd/   \n",
    "来源：力扣（LeetCode）   "
   ]
  },
  {
   "cell_type": "markdown",
   "metadata": {},
   "source": [
    "# 16. 最接近的三数之和"
   ]
  },
  {
   "cell_type": "markdown",
   "metadata": {},
   "source": [
    "给定一个包括 n 个整数的数组 nums 和 一个目标值 target。找出 nums 中的三个整数，使得它们的和与 target 最接近。返回这三个数的和。假定每组输入只存在唯一答案。\n",
    "\n",
    ">例如，给定数组 nums = [-1，2，1，-4], 和 target = 1.\n",
    ">\n",
    ">与 target 最接近的三个数的和为 2. (-1 + 2 + 1 = 2).\n",
    "\n",
    "来源：力扣（LeetCode）\n",
    "链接：https://leetcode-cn.com/problems/3sum-closest"
   ]
  },
  {
   "cell_type": "code",
   "execution_count": 76,
   "metadata": {},
   "outputs": [],
   "source": [
    "# 排序+双指针\n",
    "class Solution:\n",
    "    def threeSumClosest(self, nums: List[int], target: int) -> int:\n",
    "        nums_s = sorted(nums)\n",
    "        arr_len = len(nums_s)\n",
    "        k,i,j = 0,1,arr_len-1\n",
    "        \n",
    "        ans = s = nums_s[k] + nums_s[i] + nums_s[j]\n",
    "        dis =  s - target\n",
    "        res = abs(dis)\n",
    "        while k<arr_len-2:\n",
    "            while i<j:\n",
    "                s = nums_s[k] + nums_s[i] + nums_s[j]\n",
    "                dis = s - target\n",
    "                \n",
    "                if abs(dis) < res:\n",
    "                    res = abs(dis)\n",
    "                    ans = s\n",
    "                    \n",
    "                if dis==0:\n",
    "                    return ans\n",
    "                elif dis>0:\n",
    "                    j -= 1\n",
    "                else:\n",
    "                    i += 1    \n",
    "            k +=1\n",
    "            i = k+1\n",
    "            j = arr_len -1\n",
    "                \n",
    "        return ans"
   ]
  },
  {
   "cell_type": "code",
   "execution_count": 77,
   "metadata": {},
   "outputs": [
    {
     "data": {
      "text/plain": [
       "3"
      ]
     },
     "execution_count": 77,
     "metadata": {},
     "output_type": "execute_result"
    }
   ],
   "source": [
    "nums = [-1,2,1,-4]\n",
    "nums = [0,1,2]\n",
    "target = 3\n",
    "s = Solution()\n",
    "s.threeSumClosest(nums,target)"
   ]
  },
  {
   "cell_type": "markdown",
   "metadata": {},
   "source": [
    "## 解题思路\n",
    "### 标签：排序和双指针\n",
    "- 本题目因为要计算三个数，如果靠暴力枚举的话时间复杂度会到 O(n^3)，需要降低时间复杂度\n",
    "- 首先进行数组排序，时间复杂度 O(nlogn)在数组 nums 中，进行遍历，每遍历一个值利用其下标i，形成一个固定值 nums[i]\n",
    "- 再使用前指针指向 start = i + 1 处，后指针指向 end = nums.length - 1 处，也就是结尾处\n",
    "- 根据 sum = nums[i] + nums[start] + nums[end] 的结果，判断 sum 与目标 target 的距离，如果更近则更新结果 ans\n",
    "- 同时判断 sum 与 target 的大小关系，因为数组有序，如果 sum > target 则 end--，如果 sum < target 则 start++，如果 sum == target 则说明距离为 0 直接返回结果\n",
    "- 整个遍历过程，固定值为 n 次，双指针为 n 次，时间复杂度为 O(n^2)\n",
    "- 总时间复杂度：O(nlogn) + O(n^2) = O(n^2)\n",
    "\n",
    "作者：guanpengchn   \n",
    "链接：https://leetcode-cn.com/problems/3sum-closest/solution/hua-jie-suan-fa-16-zui-jie-jin-de-san-shu-zhi-he-b/   \n",
    "来源：力扣（LeetCode）   \n",
    "著作权归作者所有。商业转载请联系作者获得授权，非商业转载请注明出处。   "
   ]
  },
  {
   "cell_type": "markdown",
   "metadata": {},
   "source": [
    "# 17. 电话号码的字母组合"
   ]
  },
  {
   "cell_type": "markdown",
   "metadata": {},
   "source": [
    "给定一个仅包含数字 2-9 的字符串，返回所有它能表示的字母组合。   \n",
    "给出数字到字母的映射如下（与电话按键相同）。注意 1 不对应任何字母。   \n",
    "![png](./fig/17_telephone_keypad.png)"
   ]
  },
  {
   "cell_type": "code",
   "execution_count": 103,
   "metadata": {},
   "outputs": [],
   "source": [
    "class Solution17:\n",
    "    def letterCombinations(self, digits: str) -> List[str]:\n",
    "        res = []\n",
    "        if len(digits)==0:\n",
    "            return []\n",
    "        self.letterCombinationsHelper('',digits,0,res)\n",
    "        return res\n",
    "    \n",
    "    \n",
    "    def letterCombinationsHelper(self,combination,nums,index,res):\n",
    "        d = {\n",
    "            '2':'abc',\n",
    "            '3':'def',\n",
    "            '4':'ghi',\n",
    "            '5':'jkl',\n",
    "            '6':'mno',\n",
    "            '7':'pqrs',\n",
    "            '8':'tuv',\n",
    "            '9':'wxyz',\n",
    "        }\n",
    "        if index==len(nums):\n",
    "            res.append(combination)\n",
    "            return\n",
    "        for ch in d[nums[index]]:\n",
    "            self.letterCombinationsHelper(combination+ch,nums,index+1,res)\n",
    "        \n",
    "        "
   ]
  },
  {
   "cell_type": "code",
   "execution_count": 106,
   "metadata": {},
   "outputs": [
    {
     "data": {
      "text/plain": [
       "['']"
      ]
     },
     "execution_count": 106,
     "metadata": {},
     "output_type": "execute_result"
    }
   ],
   "source": [
    "s = Solution17()\n",
    "digitals = ''\n",
    "s.letterCombinations(digitals)"
   ]
  },
  {
   "cell_type": "markdown",
   "metadata": {},
   "source": [
    "# 18. 四数之和"
   ]
  },
  {
   "cell_type": "markdown",
   "metadata": {},
   "source": [
    "给定一个包含n个整数的数组nums和一个目标值target，判断nums中是否存在四个元素a，b，c和d，使得a + b + c + d的值与target相等？找出所有满足条件且不重复的四元组。   \n",
    "注意：   \n",
    "答案中不可以包含重复的四元组。  \n",
    "```\n",
    "示例：         \n",
    "给定数组 nums = [1, 0, -1, 0, -2, 2]，和 target = 0。   \n",
    "   \n",
    "满足要求的四元组集合为：   \n",
    "[    \n",
    "  [-1,  0, 0, 1],   \n",
    "  [-2, -1, 1, 2],   \n",
    "  [-2,  0, 0, 2]    \n",
    "]   \n",
    "```\n",
    "来源：力扣（LeetCode）    \n",
    "链接：https://leetcode-cn.com/problems/4sum    \n",
    "著作权归领扣网络所有。商业转载请联系官方授权，非商业转载请注明出处。    "
   ]
  },
  {
   "cell_type": "code",
   "execution_count": 23,
   "metadata": {},
   "outputs": [],
   "source": [
    "# 排序+双指针\n",
    "class Solution18:\n",
    "    def fourSum(self, nums: List[int], target: int) -> List[List[int]]:\n",
    "        s_nums = sorted(nums)\n",
    "        arr_len = len(nums)\n",
    "        \n",
    "        ans = set()\n",
    "        ret = []\n",
    "        for a in range(arr_len-3):\n",
    "            for b in range(a+1,arr_len-2):\n",
    "            \n",
    "                c = b+1\n",
    "                d = arr_len-1\n",
    "                while c<d:\n",
    "                    s = s_nums[a]+s_nums[b]+s_nums[c]+s_nums[d]\n",
    "                    \n",
    "                    if s==target:\n",
    "                        ans.add((s_nums[a],s_nums[b],s_nums[c],s_nums[d]))\n",
    "                        d-=1\n",
    "                        c+=1\n",
    "                    elif s>target:\n",
    "                        d-=1\n",
    "                    else:\n",
    "                        c+=1\n",
    "        for a in ans:\n",
    "            ret.append(list(a))\n",
    "        return ret"
   ]
  },
  {
   "cell_type": "code",
   "execution_count": 24,
   "metadata": {},
   "outputs": [
    {
     "name": "stdout",
     "output_type": "stream",
     "text": [
      "2 5\n",
      "3 5\n",
      "4 5\n",
      "3 5\n",
      "4 5\n",
      "3 5\n",
      "3 4\n",
      "4 5\n",
      "4 5\n"
     ]
    },
    {
     "data": {
      "text/plain": [
       "[[-2, -1, 1, 2], [-2, 0, 0, 2], [-1, 0, 0, 1]]"
      ]
     },
     "execution_count": 24,
     "metadata": {},
     "output_type": "execute_result"
    }
   ],
   "source": [
    "nums = [1, 0, -1, 0, -2, 2]\n",
    "s = Solution18()\n",
    "s.fourSum(nums,0)"
   ]
  },
  {
   "cell_type": "markdown",
   "metadata": {},
   "source": [
    "# 19.删除链表的倒数第N个节点"
   ]
  },
  {
   "cell_type": "markdown",
   "metadata": {},
   "source": [
    "给定一个链表，删除链表的倒数第 n 个节点，并且返回链表的头结点。   \n",
    "示例：    \n",
    "```\n",
    "给定一个链表: 1->2->3->4->5, 和 n = 2.   \n",
    "当删除了倒数第二个节点后，链表变为 1->2->3->5.   \n",
    "说明：      \n",
    "给定的n保证是有效的。    \n",
    "```\n",
    "来源：力扣（LeetCode）\n",
    "链接：https://leetcode-cn.com/problems/remove-nth-node-from-end-of-list\n",
    "著作权归领扣网络所有。商业转载请联系官方授权，非商业转载请注明出处。"
   ]
  },
  {
   "cell_type": "code",
   "execution_count": 78,
   "metadata": {},
   "outputs": [],
   "source": [
    "#Definition for singly-linked list.\n",
    "class ListNode:\n",
    "    def __init__(self, x):\n",
    "        self.val = x\n",
    "        self.next = None\n",
    "\n",
    "class Solution18:\n",
    "    def removeNthFromEnd(self, head: ListNode, n: int) -> ListNode:\n",
    "        pre = ListNode(0)\n",
    "        pre.next = head\n",
    "        start,end = pre,pre\n",
    "        v\n",
    "        while n>0:\n",
    "            end = end.next\n",
    "            n -= 1\n",
    "        \n",
    "        while end.next!=None:\n",
    "            end = end.next\n",
    "            start = start.next\n",
    "        start.next = start.next.next\n",
    "        return pre.next"
   ]
  },
  {
   "cell_type": "code",
   "execution_count": 79,
   "metadata": {},
   "outputs": [],
   "source": [
    "cur = head = ListNode(1)\n",
    "\n",
    "for i in range(2,6):\n",
    "    node =  ListNode(i)\n",
    "    cur.next = node\n",
    "    cur = cur.next \n",
    "def print_link_list(head):\n",
    "    cur = head\n",
    "    while cur!=None:\n",
    "        print(cur.val)\n",
    "        cur = cur.next"
   ]
  },
  {
   "cell_type": "code",
   "execution_count": 80,
   "metadata": {},
   "outputs": [
    {
     "name": "stdout",
     "output_type": "stream",
     "text": [
      "1\n",
      "2\n",
      "3\n",
      "4\n",
      "5\n",
      "1\n",
      "2\n",
      "3\n",
      "5\n"
     ]
    }
   ],
   "source": [
    "print_link_list(head)\n",
    "s = Solution18()\n",
    "head = s.removeNthFromEnd(head,2)\n",
    "print_link_list(head)"
   ]
  },
  {
   "cell_type": "markdown",
   "metadata": {},
   "source": [
    "### 思路\n",
    "- 标签：链表\n",
    "- 整体思路是让前面的指针先移动n步，之后前后指针共同移动直到前面的指针到尾部为止\n",
    "- 首先设立预先指针 pre，预先指针是一个小技巧，在第2题中进行了讲解\n",
    "- 设预先指针 pre 的下一个节点指向 head，设前指针为 start，后指针为 end，二者都等于 pre\n",
    "- start 先向前移动n步   \n",
    "- 之后 start 和 end 共同向前移动，此时二者的距离为 n，当 start 到尾部时，end 的位置恰好为倒数第 n 个节点\n",
    "- 因为要删除该节点，所以要移动到该节点的前一个才能删除，所以循环结束条件为 start.next != null\n",
    "- 删除后返回 pre.next，为什么不直接返回 head 呢，因为 head 有可能是被删掉的点\n",
    "- 时间复杂度：O(n)\n",
    "\n",
    "作者：guanpengchn    \n",
    "链接：https://leetcode-cn.com/problems/remove-nth-node-from-end-of-list/solution/hua-jie-suan-fa-19-shan-chu-lian-biao-de-dao-shu-d/    \n",
    "来源：力扣（LeetCode）    \n",
    "著作权归作者所有。商业转载请联系作者获得授权，非商业转载请注明出处。     "
   ]
  },
  {
   "cell_type": "markdown",
   "metadata": {},
   "source": [
    "# 20.有效括号"
   ]
  },
  {
   "cell_type": "markdown",
   "metadata": {},
   "source": [
    "给定一个只包括 '('，')'，'{'，'}'，'['，']' 的字符串，判断字符串是否有效。   \n",
    "\n",
    "有效字符串需满足：   \n",
    "\n",
    "1. 左括号必须用相同类型的右括号闭合。\n",
    "2. 左括号必须以正确的顺序闭合。\n",
    "3. 注意空字符串可被认为是有效字符串。\n",
    "\n",
    "来源：力扣（LeetCode）   \n",
    "链接：https://leetcode-cn.com/problems/valid-parentheses   \n",
    "著作权归领扣网络所有。商业转载请联系官方授权，非商业转载请注明出处。   "
   ]
  },
  {
   "cell_type": "code",
   "execution_count": 83,
   "metadata": {},
   "outputs": [],
   "source": [
    "# 栈\n",
    "class Solution20:\n",
    "    def isValid(self, s: str) -> bool:\n",
    "        s_in = []\n",
    "        d = {'(':')','{':'}','[':']'}\n",
    "        \n",
    "        if s=='':\n",
    "            return True\n",
    "        if len(s)%2 == 1:\n",
    "            return False\n",
    "        \n",
    "        for ch in s:\n",
    "            if ch =='(' or ch=='[' or ch=='{':\n",
    "                s_in.append(ch)\n",
    "            else:\n",
    "                if len(s_in)!=0 and d[s_in.pop()] != ch:\n",
    "                    return False\n",
    "        return len(s_in)==0"
   ]
  },
  {
   "cell_type": "code",
   "execution_count": 82,
   "metadata": {},
   "outputs": [
    {
     "data": {
      "text/plain": [
       "True"
      ]
     },
     "execution_count": 82,
     "metadata": {},
     "output_type": "execute_result"
    }
   ],
   "source": [
    "s1 = '()'\n",
    "s2 = '()[]{}'\n",
    "s3 = '(]'\n",
    "s20 = Solution20()\n",
    "s20.isValid(s1)"
   ]
  },
  {
   "cell_type": "markdown",
   "metadata": {},
   "source": [
    "# 21. 合并两个有序链表"
   ]
  },
  {
   "cell_type": "markdown",
   "metadata": {},
   "source": [
    "将两个有序链表合并为一个新的有序链表并返回。新链表是通过拼接给定的两个链表的所有节点组成的。    \n",
    "   \n",
    "示例：   \n",
    "   \n",
    "输入：1->2->4, 1->3->4   \n",
    "输出：1->1->2->3->4->4    \n",
    "   \n",
    "来源：力扣（LeetCode）    \n",
    "链接：https://leetcode-cn.com/problems/merge-two-sorted-lists    \n",
    "著作权归领扣网络所有。商业转载请联系官方授权，非商业转载请注明出处。    "
   ]
  },
  {
   "cell_type": "code",
   "execution_count": null,
   "metadata": {},
   "outputs": [],
   "source": [
    "# Definition for singly-linked list.\n",
    "class ListNode:\n",
    "    def __init__(self, x):\n",
    "        self.val = x\n",
    "        self.next = None\n",
    "# 递归\n",
    "class Solution:\n",
    "    def mergeTwoLists(self, l1: ListNode, l2: ListNode) -> ListNode:\n",
    "        if l1==None:\n",
    "            return l2\n",
    "        elif l2==None:\n",
    "            return l1\n",
    "        elif l1.val <=l2.val:\n",
    "            l1.next = self.mergeTwoLists(l1.next,l2)\n",
    "            return l1\n",
    "        else:\n",
    "            l2.next = self.mergeTwoLists(l1,l2.next)\n",
    "            return l2"
   ]
  },
  {
   "cell_type": "code",
   "execution_count": null,
   "metadata": {},
   "outputs": [],
   "source": [
    "# 迭代\n",
    "class Solution21:\n",
    "    def mergeTwoLists(self, l1: ListNode, l2: ListNode) -> ListNode:\n",
    "        pre_node = ListNode(0)\n",
    "        cur = pre_node\n",
    "        while l1!=None or l2!=None:\n",
    "            if l1==None and l2!=None:\n",
    "                cur.next = l2\n",
    "                return pre_node.next\n",
    "            elif l1!=None and l2==None:\n",
    "                cur.next = l1\n",
    "                return pre_node.next\n",
    "            elif l1.val <= l2.val:\n",
    "                cur.next = l1\n",
    "                l1 = l1.next\n",
    "            else:\n",
    "                cur.next = l2\n",
    "                l2 = l2.next\n",
    "            cur = cur.next\n",
    "        return pre_node.next"
   ]
  }
 ],
 "metadata": {
  "kernelspec": {
   "display_name": "Python 3",
   "language": "python",
   "name": "python3"
  },
  "language_info": {
   "codemirror_mode": {
    "name": "ipython",
    "version": 3
   },
   "file_extension": ".py",
   "mimetype": "text/x-python",
   "name": "python",
   "nbconvert_exporter": "python",
   "pygments_lexer": "ipython3",
   "version": "3.7.3"
  }
 },
 "nbformat": 4,
 "nbformat_minor": 2
}
