{
 "cells": [
  {
   "cell_type": "markdown",
   "metadata": {},
   "source": [
    "# 15.三数之和"
   ]
  },
  {
   "cell_type": "markdown",
   "metadata": {},
   "source": [
    "给定一个包含 n 个整数的数组 nums，判断 nums 中是否存在三个元素 a，b，c ，使得 a + b + c = 0 ？找出所有满足条件且不重复的三元组。\n",
    "注意：答案中不可以包含重复的三元组。   \n",
    "\n",
    ">例如, 给定数组 nums = [-1, 0, 1, 2, -1, -4]，\n",
    ">\n",
    ">满足要求的三元组集合为：   \n",
    ">[   \n",
    ">   [-1, 0, 1],   \n",
    ">   [-1, -1, 2]   \n",
    ">]   \n",
    "给定一个包含 n 个整数的数组 nums，判断 nums 中是否存在三个元素 a，b，c ，使得 a + b + c = 0 ？找出所有满足条件且不重复的三元组。\n",
    "\n",
    "来源：力扣（LeetCode）   \n",
    "链接：https://leetcode-cn.com/problems/3sum   "
   ]
  },
  {
   "cell_type": "markdown",
   "metadata": {},
   "source": []
  },
  {
   "cell_type": "code",
   "execution_count": 3,
   "metadata": {},
   "outputs": [],
   "source": [
    "from typing import List"
   ]
  },
  {
   "cell_type": "code",
   "execution_count": 2,
   "metadata": {},
   "outputs": [],
   "source": [
    "# 超时\n",
    "class Solution1:\n",
    "    def threeSum(self, nums: List[int]) -> List[List[int]]:\n",
    "        arr_len = len(nums)\n",
    "        \n",
    "        two_sum = []\n",
    "        res = []\n",
    "        index = []\n",
    "        for i in range(arr_len-1):\n",
    "            for j in range(i,arr_len):\n",
    "                if i==j:\n",
    "                    continue\n",
    "                two_sum.append((i,j,(nums[i]+nums[j])))\n",
    "                \n",
    "        for k in range(arr_len):\n",
    "            for p in range(len(two_sum)):\n",
    "                if (nums[k]+two_sum[p][2]==0) and k!=two_sum[p][0] and k!=two_sum[p][1]:\n",
    "                    l = sorted([nums[k],nums[two_sum[p][0]],nums[two_sum[p][1]]])\n",
    "                    if l not in res:\n",
    "                        res.append(l)\n",
    "                    \n",
    "        return res"
   ]
  },
  {
   "cell_type": "code",
   "execution_count": 13,
   "metadata": {},
   "outputs": [],
   "source": [
    "# 排序+双指针\n",
    "class Solution2:\n",
    "    def threeSum(self, nums: List[int]) -> List[List[int]]:\n",
    "        sorted_nums = sorted(nums)\n",
    "        arr_len = len(nums)\n",
    "        i,j,k= 1,arr_len-1,0\n",
    "        \n",
    "        res = []\n",
    "        while k<(arr_len-2):\n",
    "            if sorted_nums[k] >0:\n",
    "                break\n",
    "            if k>0 and sorted_nums[k-1] == sorted_nums[k]:\n",
    "                k+=1\n",
    "                i=k+1\n",
    "                j=arr_len-1\n",
    "                continue\n",
    "                \n",
    "            while i<j:\n",
    "                s = sorted_nums[k] + sorted_nums[i] + sorted_nums[j]\n",
    "                if s==0:\n",
    "                    res.append([sorted_nums[k],sorted_nums[i],sorted_nums[j]])\n",
    "                    i += 1\n",
    "                    j -= 1\n",
    "                    while i<j and sorted_nums[i]==sorted_nums[i-1]: i+=1\n",
    "                    while i<j and sorted_nums[j]==sorted_nums[j+1]: j-=1\n",
    "                elif s<0:\n",
    "                    i += 1\n",
    "                    \n",
    "                else: \n",
    "                    j -= 1\n",
    "                    \n",
    "            k+=1\n",
    "            i = k+1\n",
    "            j = arr_len-1\n",
    "        return res"
   ]
  },
  {
   "cell_type": "code",
   "execution_count": 14,
   "metadata": {},
   "outputs": [],
   "source": [
    "s2 = Solution2()"
   ]
  },
  {
   "cell_type": "code",
   "execution_count": 15,
   "metadata": {},
   "outputs": [],
   "source": [
    "nums = [-1,0,1,2,-1,-4]"
   ]
  },
  {
   "cell_type": "code",
   "execution_count": 16,
   "metadata": {},
   "outputs": [
    {
     "data": {
      "text/plain": [
       "[[-1, -1, 2], [-1, 0, 1]]"
      ]
     },
     "execution_count": 16,
     "metadata": {},
     "output_type": "execute_result"
    }
   ],
   "source": [
    "s2.threeSum(nums)"
   ]
  },
  {
   "cell_type": "markdown",
   "metadata": {},
   "source": [
    "题解：\n",
    "双指针法铺垫： 先将给定 nums 排序，复杂度为 O(NlogN)O(NlogN)。   \n",
    "双指针法思路： 固定 33 个指针中最左（最小）数字的指针 k，双指针 i，j 分设在数组索引 (k, len(nums))(k,len(nums)) 两端，通过双指针交替向中间移动，记录对于每个固定指针 k 的所有满足 nums[k] + nums[i] + nums[j] == 0 的 i,j 组合：   \n",
    "当 nums[k] > 0 时直接break跳出：因为 nums[j] >= nums[i] >= nums[k] > 0，即 33 个数字都大于 00 ，在此固定指针 k 之后不可能再找到结果了。    \n",
    "当 k > 0且nums[k] == nums[k - 1]时即跳过此元素nums[k]：因为已经将 nums[k - 1] 的所有组合加入到结果中，本次双指针搜索只会得到重复组合。    \n",
    "i，j 分设在数组索引 (k, len(nums))(k,len(nums)) 两端，当i < j时循环计算s = nums[k] + nums[i] + nums[j]，并按照以下规则执行双指针移动：    \n",
    "当s < 0时，i += 1并跳过所有重复的nums[i]；   \n",
    "当s > 0时，j -= 1并跳过所有重复的nums[j]；  \n",
    "当s == 0时，记录组合[k, i, j]至res，执行i += 1和j -= 1并跳过所有重复的nums[i]和nums[j]，防止记录到重复组合。   \n",
    "复杂度分析：   \n",
    "时间复杂度 O(N^2)   \n",
    "O(N^2)：其中固定指针k循环复杂度 O(N)O(N)，双指针 i，j 复杂度 O(N)O(N)。   \n",
    "空间复杂度 O(1)   \n",
    "O(1)：指针使用常数大小的额外空间。   \n",
    "\n",
    "作者：jyd   \n",
    "链接：https://leetcode-cn.com/problems/3sum/solution/3sumpai-xu-shuang-zhi-zhen-yi-dong-by-jyd/   \n",
    "来源：力扣（LeetCode）   "
   ]
  },
  {
   "cell_type": "markdown",
   "metadata": {},
   "source": [
    "# 16. 最接近的三数之和"
   ]
  },
  {
   "cell_type": "markdown",
   "metadata": {},
   "source": [
    "给定一个包括 n 个整数的数组 nums 和 一个目标值 target。找出 nums 中的三个整数，使得它们的和与 target 最接近。返回这三个数的和。假定每组输入只存在唯一答案。\n",
    "\n",
    ">例如，给定数组 nums = [-1，2，1，-4], 和 target = 1.\n",
    ">\n",
    ">与 target 最接近的三个数的和为 2. (-1 + 2 + 1 = 2).\n",
    "\n",
    "来源：力扣（LeetCode）\n",
    "链接：https://leetcode-cn.com/problems/3sum-closest"
   ]
  },
  {
   "cell_type": "code",
   "execution_count": 76,
   "metadata": {},
   "outputs": [],
   "source": [
    "# 排序+双指针\n",
    "class Solution:\n",
    "    def threeSumClosest(self, nums: List[int], target: int) -> int:\n",
    "        nums_s = sorted(nums)\n",
    "        arr_len = len(nums_s)\n",
    "        k,i,j = 0,1,arr_len-1\n",
    "        \n",
    "        ans = s = nums_s[k] + nums_s[i] + nums_s[j]\n",
    "        dis =  s - target\n",
    "        res = abs(dis)\n",
    "        while k<arr_len-2:\n",
    "            while i<j:\n",
    "                s = nums_s[k] + nums_s[i] + nums_s[j]\n",
    "                dis = s - target\n",
    "                \n",
    "                if abs(dis) < res:\n",
    "                    res = abs(dis)\n",
    "                    ans = s\n",
    "                    \n",
    "                if dis==0:\n",
    "                    return ans\n",
    "                elif dis>0:\n",
    "                    j -= 1\n",
    "                else:\n",
    "                    i += 1    \n",
    "            k +=1\n",
    "            i = k+1\n",
    "            j = arr_len -1\n",
    "                \n",
    "        return ans"
   ]
  },
  {
   "cell_type": "code",
   "execution_count": 77,
   "metadata": {},
   "outputs": [
    {
     "data": {
      "text/plain": [
       "3"
      ]
     },
     "execution_count": 77,
     "metadata": {},
     "output_type": "execute_result"
    }
   ],
   "source": [
    "nums = [-1,2,1,-4]\n",
    "nums = [0,1,2]\n",
    "target = 3\n",
    "s = Solution()\n",
    "s.threeSumClosest(nums,target)"
   ]
  },
  {
   "cell_type": "markdown",
   "metadata": {},
   "source": [
    "## 解题思路\n",
    "### 标签：排序和双指针\n",
    "- 本题目因为要计算三个数，如果靠暴力枚举的话时间复杂度会到 O(n^3)，需要降低时间复杂度\n",
    "- 首先进行数组排序，时间复杂度 O(nlogn)在数组 nums 中，进行遍历，每遍历一个值利用其下标i，形成一个固定值 nums[i]\n",
    "- 再使用前指针指向 start = i + 1 处，后指针指向 end = nums.length - 1 处，也就是结尾处\n",
    "- 根据 sum = nums[i] + nums[start] + nums[end] 的结果，判断 sum 与目标 target 的距离，如果更近则更新结果 ans\n",
    "- 同时判断 sum 与 target 的大小关系，因为数组有序，如果 sum > target 则 end--，如果 sum < target 则 start++，如果 sum == target 则说明距离为 0 直接返回结果\n",
    "- 整个遍历过程，固定值为 n 次，双指针为 n 次，时间复杂度为 O(n^2)\n",
    "- 总时间复杂度：O(nlogn) + O(n^2) = O(n^2)\n",
    "\n",
    "作者：guanpengchn   \n",
    "链接：https://leetcode-cn.com/problems/3sum-closest/solution/hua-jie-suan-fa-16-zui-jie-jin-de-san-shu-zhi-he-b/   \n",
    "来源：力扣（LeetCode）   \n",
    "著作权归作者所有。商业转载请联系作者获得授权，非商业转载请注明出处。   "
   ]
  },
  {
   "cell_type": "markdown",
   "metadata": {},
   "source": [
    "# 17. 电话号码的字母组合"
   ]
  },
  {
   "cell_type": "markdown",
   "metadata": {},
   "source": [
    "给定一个仅包含数字 2-9 的字符串，返回所有它能表示的字母组合。   \n",
    "给出数字到字母的映射如下（与电话按键相同）。注意 1 不对应任何字母。   \n",
    "![png](./fig/17_telephone_keypad.png)"
   ]
  },
  {
   "cell_type": "code",
   "execution_count": 103,
   "metadata": {},
   "outputs": [],
   "source": [
    "class Solution17:\n",
    "    def letterCombinations(self, digits: str) -> List[str]:\n",
    "        res = []\n",
    "        if len(digits)==0:\n",
    "            return []\n",
    "        self.letterCombinationsHelper('',digits,0,res)\n",
    "        return res\n",
    "    \n",
    "    \n",
    "    def letterCombinationsHelper(self,combination,nums,index,res):\n",
    "        d = {\n",
    "            '2':'abc',\n",
    "            '3':'def',\n",
    "            '4':'ghi',\n",
    "            '5':'jkl',\n",
    "            '6':'mno',\n",
    "            '7':'pqrs',\n",
    "            '8':'tuv',\n",
    "            '9':'wxyz',\n",
    "        }\n",
    "        if index==len(nums):\n",
    "            res.append(combination)\n",
    "            return\n",
    "        for ch in d[nums[index]]:\n",
    "            self.letterCombinationsHelper(combination+ch,nums,index+1,res)\n",
    "        \n",
    "        "
   ]
  },
  {
   "cell_type": "code",
   "execution_count": 106,
   "metadata": {},
   "outputs": [
    {
     "data": {
      "text/plain": [
       "['']"
      ]
     },
     "execution_count": 106,
     "metadata": {},
     "output_type": "execute_result"
    }
   ],
   "source": [
    "s = Solution17()\n",
    "digitals = ''\n",
    "s.letterCombinations(digitals)"
   ]
  },
  {
   "cell_type": "markdown",
   "metadata": {},
   "source": [
    "# 18. 四数之和"
   ]
  },
  {
   "cell_type": "markdown",
   "metadata": {},
   "source": [
    "给定一个包含n个整数的数组nums和一个目标值target，判断nums中是否存在四个元素a，b，c和d，使得a + b + c + d的值与target相等？找出所有满足条件且不重复的四元组。   \n",
    "注意：   \n",
    "答案中不可以包含重复的四元组。  \n",
    "```\n",
    "示例：         \n",
    "给定数组 nums = [1, 0, -1, 0, -2, 2]，和 target = 0。   \n",
    "   \n",
    "满足要求的四元组集合为：   \n",
    "[    \n",
    "  [-1,  0, 0, 1],   \n",
    "  [-2, -1, 1, 2],   \n",
    "  [-2,  0, 0, 2]    \n",
    "]   \n",
    "```\n",
    "来源：力扣（LeetCode）    \n",
    "链接：https://leetcode-cn.com/problems/4sum    \n",
    "著作权归领扣网络所有。商业转载请联系官方授权，非商业转载请注明出处。    "
   ]
  },
  {
   "cell_type": "code",
   "execution_count": 23,
   "metadata": {},
   "outputs": [],
   "source": [
    "# 排序+双指针\n",
    "class Solution18:\n",
    "    def fourSum(self, nums: List[int], target: int) -> List[List[int]]:\n",
    "        s_nums = sorted(nums)\n",
    "        arr_len = len(nums)\n",
    "        \n",
    "        ans = set()\n",
    "        ret = []\n",
    "        for a in range(arr_len-3):\n",
    "            for b in range(a+1,arr_len-2):\n",
    "            \n",
    "                c = b+1\n",
    "                d = arr_len-1\n",
    "                while c<d:\n",
    "                    s = s_nums[a]+s_nums[b]+s_nums[c]+s_nums[d]\n",
    "                    \n",
    "                    if s==target:\n",
    "                        ans.add((s_nums[a],s_nums[b],s_nums[c],s_nums[d]))\n",
    "                        d-=1\n",
    "                        c+=1\n",
    "                    elif s>target:\n",
    "                        d-=1\n",
    "                    else:\n",
    "                        c+=1\n",
    "        for a in ans:\n",
    "            ret.append(list(a))\n",
    "        return ret"
   ]
  },
  {
   "cell_type": "code",
   "execution_count": 24,
   "metadata": {},
   "outputs": [
    {
     "name": "stdout",
     "output_type": "stream",
     "text": [
      "2 5\n",
      "3 5\n",
      "4 5\n",
      "3 5\n",
      "4 5\n",
      "3 5\n",
      "3 4\n",
      "4 5\n",
      "4 5\n"
     ]
    },
    {
     "data": {
      "text/plain": [
       "[[-2, -1, 1, 2], [-2, 0, 0, 2], [-1, 0, 0, 1]]"
      ]
     },
     "execution_count": 24,
     "metadata": {},
     "output_type": "execute_result"
    }
   ],
   "source": [
    "nums = [1, 0, -1, 0, -2, 2]\n",
    "s = Solution18()\n",
    "s.fourSum(nums,0)"
   ]
  },
  {
   "cell_type": "markdown",
   "metadata": {},
   "source": [
    "# 19.删除链表的倒数第N个节点"
   ]
  },
  {
   "cell_type": "markdown",
   "metadata": {},
   "source": [
    "给定一个链表，删除链表的倒数第 n 个节点，并且返回链表的头结点。   \n",
    "示例：    \n",
    "```\n",
    "给定一个链表: 1->2->3->4->5, 和 n = 2.   \n",
    "当删除了倒数第二个节点后，链表变为 1->2->3->5.   \n",
    "说明：      \n",
    "给定的n保证是有效的。    \n",
    "```\n",
    "来源：力扣（LeetCode）\n",
    "链接：https://leetcode-cn.com/problems/remove-nth-node-from-end-of-list\n",
    "著作权归领扣网络所有。商业转载请联系官方授权，非商业转载请注明出处。"
   ]
  },
  {
   "cell_type": "code",
   "execution_count": 78,
   "metadata": {},
   "outputs": [],
   "source": [
    "#Definition for singly-linked list.\n",
    "class ListNode:\n",
    "    def __init__(self, x):\n",
    "        self.val = x\n",
    "        self.next = None\n",
    "\n",
    "class Solution18:\n",
    "    def removeNthFromEnd(self, head: ListNode, n: int) -> ListNode:\n",
    "        pre = ListNode(0)\n",
    "        pre.next = head\n",
    "        start,end = pre,pre\n",
    "        v\n",
    "        while n>0:\n",
    "            end = end.next\n",
    "            n -= 1\n",
    "        \n",
    "        while end.next!=None:\n",
    "            end = end.next\n",
    "            start = start.next\n",
    "        start.next = start.next.next\n",
    "        return pre.next"
   ]
  },
  {
   "cell_type": "code",
   "execution_count": 79,
   "metadata": {},
   "outputs": [],
   "source": [
    "cur = head = ListNode(1)\n",
    "\n",
    "for i in range(2,6):\n",
    "    node =  ListNode(i)\n",
    "    cur.next = node\n",
    "    cur = cur.next \n",
    "def print_link_list(head):\n",
    "    cur = head\n",
    "    while cur!=None:\n",
    "        print(cur.val)\n",
    "        cur = cur.next"
   ]
  },
  {
   "cell_type": "code",
   "execution_count": 80,
   "metadata": {},
   "outputs": [
    {
     "name": "stdout",
     "output_type": "stream",
     "text": [
      "1\n",
      "2\n",
      "3\n",
      "4\n",
      "5\n",
      "1\n",
      "2\n",
      "3\n",
      "5\n"
     ]
    }
   ],
   "source": [
    "print_link_list(head)\n",
    "s = Solution18()\n",
    "head = s.removeNthFromEnd(head,2)\n",
    "print_link_list(head)"
   ]
  },
  {
   "cell_type": "markdown",
   "metadata": {},
   "source": [
    "### 思路\n",
    "- 标签：链表\n",
    "- 整体思路是让前面的指针先移动n步，之后前后指针共同移动直到前面的指针到尾部为止\n",
    "- 首先设立预先指针 pre，预先指针是一个小技巧，在第2题中进行了讲解\n",
    "- 设预先指针 pre 的下一个节点指向 head，设前指针为 start，后指针为 end，二者都等于 pre\n",
    "- start 先向前移动n步   \n",
    "- 之后 start 和 end 共同向前移动，此时二者的距离为 n，当 start 到尾部时，end 的位置恰好为倒数第 n 个节点\n",
    "- 因为要删除该节点，所以要移动到该节点的前一个才能删除，所以循环结束条件为 start.next != null\n",
    "- 删除后返回 pre.next，为什么不直接返回 head 呢，因为 head 有可能是被删掉的点\n",
    "- 时间复杂度：O(n)\n",
    "\n",
    "作者：guanpengchn    \n",
    "链接：https://leetcode-cn.com/problems/remove-nth-node-from-end-of-list/solution/hua-jie-suan-fa-19-shan-chu-lian-biao-de-dao-shu-d/    \n",
    "来源：力扣（LeetCode）    \n",
    "著作权归作者所有。商业转载请联系作者获得授权，非商业转载请注明出处。     "
   ]
  },
  {
   "cell_type": "markdown",
   "metadata": {},
   "source": [
    "# 20.有效括号"
   ]
  },
  {
   "cell_type": "markdown",
   "metadata": {},
   "source": [
    "给定一个只包括 '('，')'，'{'，'}'，'['，']' 的字符串，判断字符串是否有效。   \n",
    "\n",
    "有效字符串需满足：   \n",
    "\n",
    "1. 左括号必须用相同类型的右括号闭合。\n",
    "2. 左括号必须以正确的顺序闭合。\n",
    "3. 注意空字符串可被认为是有效字符串。\n",
    "\n",
    "来源：力扣（LeetCode）   \n",
    "链接：https://leetcode-cn.com/problems/valid-parentheses   \n",
    "著作权归领扣网络所有。商业转载请联系官方授权，非商业转载请注明出处。   "
   ]
  },
  {
   "cell_type": "code",
   "execution_count": 83,
   "metadata": {},
   "outputs": [],
   "source": [
    "# 栈\n",
    "class Solution20:\n",
    "    def isValid(self, s: str) -> bool:\n",
    "        s_in = []\n",
    "        d = {'(':')','{':'}','[':']'}\n",
    "        \n",
    "        if s=='':\n",
    "            return True\n",
    "        if len(s)%2 == 1:\n",
    "            return False\n",
    "        \n",
    "        for ch in s:\n",
    "            if ch =='(' or ch=='[' or ch=='{':\n",
    "                s_in.append(ch)\n",
    "            else:\n",
    "                if len(s_in)!=0 and d[s_in.pop()] != ch:\n",
    "                    return False\n",
    "        return len(s_in)==0"
   ]
  },
  {
   "cell_type": "code",
   "execution_count": 82,
   "metadata": {},
   "outputs": [
    {
     "data": {
      "text/plain": [
       "True"
      ]
     },
     "execution_count": 82,
     "metadata": {},
     "output_type": "execute_result"
    }
   ],
   "source": [
    "s1 = '()'\n",
    "s2 = '()[]{}'\n",
    "s3 = '(]'\n",
    "s20 = Solution20()\n",
    "s20.isValid(s1)"
   ]
  },
  {
   "cell_type": "markdown",
   "metadata": {},
   "source": [
    "# 21. 合并两个有序链表"
   ]
  },
  {
   "cell_type": "markdown",
   "metadata": {},
   "source": [
    "将两个有序链表合并为一个新的有序链表并返回。新链表是通过拼接给定的两个链表的所有节点组成的。    \n",
    "   \n",
    "示例：   \n",
    "   \n",
    "输入：1->2->4, 1->3->4   \n",
    "输出：1->1->2->3->4->4    \n",
    "   \n",
    "来源：力扣（LeetCode）    \n",
    "链接：https://leetcode-cn.com/problems/merge-two-sorted-lists    \n",
    "著作权归领扣网络所有。商业转载请联系官方授权，非商业转载请注明出处。    "
   ]
  },
  {
   "cell_type": "code",
   "execution_count": null,
   "metadata": {},
   "outputs": [],
   "source": [
    "# Definition for singly-linked list.\n",
    "class ListNode:\n",
    "    def __init__(self, x):\n",
    "        self.val = x\n",
    "        self.next = None\n",
    "# 递归\n",
    "class Solution:\n",
    "    def mergeTwoLists(self, l1: ListNode, l2: ListNode) -> ListNode:\n",
    "        if l1==None:\n",
    "            return l2\n",
    "        elif l2==None:\n",
    "            return l1\n",
    "        elif l1.val <=l2.val:\n",
    "            l1.next = self.mergeTwoLists(l1.next,l2)\n",
    "            return l1\n",
    "        else:\n",
    "            l2.next = self.mergeTwoLists(l1,l2.next)\n",
    "            return l2"
   ]
  },
  {
   "cell_type": "code",
   "execution_count": null,
   "metadata": {},
   "outputs": [],
   "source": [
    "# 迭代\n",
    "class Solution21:\n",
    "    def mergeTwoLists(self, l1: ListNode, l2: ListNode) -> ListNode:\n",
    "        pre_node = ListNode(0)\n",
    "        cur = pre_node\n",
    "        while l1!=None or l2!=None:\n",
    "            if l1==None and l2!=None:\n",
    "                cur.next = l2\n",
    "                return pre_node.next\n",
    "            elif l1!=None and l2==None:\n",
    "                cur.next = l1\n",
    "                return pre_node.next\n",
    "            elif l1.val <= l2.val:\n",
    "                cur.next = l1\n",
    "                l1 = l1.next\n",
    "            else:\n",
    "                cur.next = l2\n",
    "                l2 = l2.next\n",
    "            cur = cur.next\n",
    "        return pre_node.next"
   ]
  },
  {
   "cell_type": "markdown",
   "metadata": {},
   "source": [
    "# 22. 括号生成"
   ]
  },
  {
   "cell_type": "markdown",
   "metadata": {},
   "source": [
    "给出 n 代表生成括号的对数，请你写出一个函数，使其能够生成所有可能的并且有效的括号组合。   \n",
    "\n",
    "例如，给出 n = 3，生成结果为：   \n",
    "```\n",
    "[   \n",
    "  \"((()))\",   \n",
    "  \"(()())\",   \n",
    "  \"(())()\",   \n",
    "  \"()(())\",   \n",
    "  \"()()()\"   \n",
    "]   \n",
    "```\n",
    "来源：力扣（LeetCode）   \n",
    "链接：https://leetcode-cn.com/problems/generate-parentheses   \n",
    "著作权归领扣网络所有。商业转载请联系官方授权，非商业转载请注明出处。   "
   ]
  },
  {
   "cell_type": "code",
   "execution_count": 84,
   "metadata": {},
   "outputs": [],
   "source": [
    "# 递归\n",
    "class Solution22:\n",
    "    def generateParenthesis(self, n: int) -> List[str]:\n",
    "        res = []\n",
    "        self.genParenthesisHelper(0,0,n,'',res)\n",
    "        return res\n",
    "    \n",
    "    def genParenthesisHelper(self,left,right,n,s,res):\n",
    "        if left < right:\n",
    "            return\n",
    "        if left==n and right==n:\n",
    "            res.append(s)\n",
    "        if left<n:\n",
    "            self.genParenthesisHelper(left+1,right,n,s+'(',res)\n",
    "        if right<n:\n",
    "            self.genParenthesisHelper(left,right+1,n,s+')',res)\n",
    "        "
   ]
  },
  {
   "cell_type": "code",
   "execution_count": 86,
   "metadata": {},
   "outputs": [
    {
     "data": {
      "text/plain": [
       "['((()))', '(()())', '(())()', '()(())', '()()()']"
      ]
     },
     "execution_count": 86,
     "metadata": {},
     "output_type": "execute_result"
    }
   ],
   "source": [
    "s22 = Solution22()\n",
    "s22.generateParenthesis(3)"
   ]
  },
  {
   "cell_type": "code",
   "execution_count": 93,
   "metadata": {},
   "outputs": [],
   "source": [
    "# 动态规划\n",
    "class Solution22_2:\n",
    "    def generateParenthesis(self, n: int) -> List[str]:\n",
    "        res = []\n",
    "        res.append([''])\n",
    "        res.append(['()'])\n",
    "        for i in range(2,n+1):\n",
    "            l= []\n",
    "            for j in range(0,i):\n",
    "                p1 = [ '('+item+')' for item in res[j]]\n",
    "                p2 = res[i-j-1]\n",
    "                for k in p1:\n",
    "                    for p in p2:\n",
    "                        l.append(k+p)\n",
    "            res.append(l)\n",
    "        return res[n]"
   ]
  },
  {
   "cell_type": "markdown",
   "metadata": {},
   "source": [
    "思路：   \n",
    "当我们清楚所有 i<n 时括号的可能生成排列后，对与 i=n 的情况，我们考虑整个括号排列中最左边的括号。   \n",
    "它一定是一个左括号，那么它可以和它对应的右括号组成一组完整的括号 \"( )\"，我们认为这一组是相比 n-1 增加进来的括号。   \n",
    "\n",
    "那么，剩下 n-1 组括号有可能在哪呢？   \n",
    "\n",
    "【这里是重点，请着重理解】    \n",
    "\n",
    "剩下的括号要么在这一组新增的括号内部，要么在这一组新增括号的外部（右侧）。    \n",
    "\n",
    "既然知道了 i<n 的情况，那我们就可以对所有情况进行遍历：    \n",
    "\n",
    "\"(\" + 【i=p时所有括号的排列组合】 + \")\" + 【i=q时所有括号的排列组合】     \n",
    "\n",
    "其中 p + q = n-1，且 p q 均为非负整数。    \n",
    " \n",
    "事实上，当上述 p 从 0 取到 n-1，q 从 n-1 取到 0 后，所有情况就遍历完了。     \n",
    "\n",
    "注：上述遍历是没有重复情况出现的，即当 (p1,q1)≠(p2,q2) 时，按上述方式取的括号组合一定不同。     \n",
    "\n",
    "作者：yuyu-13    \n",
    "链接：https://leetcode-cn.com/problems/generate-parentheses/solution/zui-jian-dan-yi-dong-de-dong-tai-gui-hua-bu-lun-da/     \n",
    "来源：力扣（LeetCode）    \n",
    "著作权归作者所有。商业转载请联系作者获得授权，非商业转载请注明出处。    "
   ]
  },
  {
   "cell_type": "markdown",
   "metadata": {},
   "source": [
    "# 23. 合并K个排序链表"
   ]
  },
  {
   "cell_type": "markdown",
   "metadata": {},
   "source": [
    "合并 k 个排序链表，返回合并后的排序链表。请分析和描述算法的复杂度。   \n",
    "\n",
    "示例:   \n",
    "\n",
    "输入:   \n",
    "```\n",
    "[   \n",
    "  1->4->5,    \n",
    "  1->3->4,    \n",
    "  2->6    \n",
    "]    \n",
    "输出: 1->1->2->3->4->4->5->6   \n",
    "```\n",
    "来源：力扣（LeetCode）\n",
    "链接：https://leetcode-cn.com/problems/merge-k-sorted-lists\n",
    "著作权归领扣网络所有。商业转载请联系官方授权，非商业转载请注明出处。"
   ]
  },
  {
   "cell_type": "code",
   "execution_count": 96,
   "metadata": {},
   "outputs": [],
   "source": [
    "# Definition for singly-linked list.\n",
    "# 参考21题合并两个有序链表，将列表中的链表两两合并，循环进行，得到最终合并的大有序链表\n",
    "class ListNode:\n",
    "    def __init__(self, x):\n",
    "        self.val = x\n",
    "        self.next = None\n",
    "\n",
    "class Solution23:\n",
    "    def mergeKLists(self, lists: List[ListNode]) -> ListNode:\n",
    "        nums = len(lists)\n",
    "        if nums==0:\n",
    "            return None\n",
    "        pairs = nums // 2\n",
    "        while pairs !=0:\n",
    "            for i in range(pairs):\n",
    "                l1 = lists.pop(0)\n",
    "                l2 = lists.pop(0)\n",
    "                new_l = self.mergeTwoLists(l1,l2)\n",
    "                lists.append(new_l)\n",
    "            pairs = len(lists) // 2\n",
    "        return lists[0]\n",
    "    \n",
    "    def mergeTwoLists(self,l1,l2):\n",
    "        if l1==None:\n",
    "            return l2\n",
    "        elif l2==None:\n",
    "            return l1\n",
    "        elif l1.val<l2.val:\n",
    "            l1.next = self.mergeTwoLists(l1.next,l2)\n",
    "            return l1\n",
    "        else:\n",
    "            l2.next = self.mergeTwoLists(l1,l2.next)\n",
    "            return l2"
   ]
  },
  {
   "cell_type": "markdown",
   "metadata": {},
   "source": [
    "# 22. 两两交换链表中的节点"
   ]
  },
  {
   "cell_type": "markdown",
   "metadata": {},
   "source": [
    "给定一个链表，两两交换其中相邻的节点，并返回交换后的链表。    \n",
    "\n",
    "你不能只是单纯的改变节点内部的值，而是需要实际的进行节点交换。   \n",
    "```\n",
    "示例:   \n",
    "\n",
    "给定 1->2->3->4, 你应该返回 2->1->4->3.   \n",
    "```\n",
    "来源：力扣（LeetCode）   \n",
    "链接：https://leetcode-cn.com/problems/swap-nodes-in-pairs   \n",
    "著作权归领扣网络所有。商业转载请联系官方授权，非商业转载请注明出处。   "
   ]
  },
  {
   "cell_type": "code",
   "execution_count": 98,
   "metadata": {},
   "outputs": [],
   "source": [
    "# Definition for singly-linked list.\n",
    "# 迭代\n",
    "class ListNode:\n",
    "    def __init__(self, x):\n",
    "        self.val = x\n",
    "        self.next = None\n",
    "\n",
    "class Solution24:\n",
    "    def swapPairs(self, head: ListNode) -> ListNode:\n",
    "        helper = ListNode(0)\n",
    "        helper.next = head\n",
    "        temp = helper\n",
    "        while temp.next!=None and temp.next.next!=None:\n",
    "            pre = temp.next\n",
    "            nxt = temp.next.next\n",
    "            pre.next = nxt.next\n",
    "            temp.next = nxt\n",
    "            nxt.next = pre\n",
    "            temp = pre\n",
    "        return helper.next"
   ]
  },
  {
   "cell_type": "code",
   "execution_count": 99,
   "metadata": {},
   "outputs": [],
   "source": [
    "# 递归\n",
    "class Solution24_2:\n",
    "    def swapPairs(self, head: ListNode) -> ListNode:\n",
    "        if head==None or head.next==None:\n",
    "            return head\n",
    "        second = head.next\n",
    "        head.next = self.swapPairs(second.next)\n",
    "        second.next = head\n",
    "        return second"
   ]
  },
  {
   "cell_type": "markdown",
   "metadata": {},
   "source": [
    "# 25. K个一组翻转链表"
   ]
  },
  {
   "cell_type": "markdown",
   "metadata": {},
   "source": [
    "给你一个链表，每 k 个节点一组进行翻转，请你返回翻转后的链表。   \n",
    "\n",
    "k 是一个正整数，它的值小于或等于链表的长度。   \n",
    "\n",
    "如果节点总数不是 k 的整数倍，那么请将最后剩余的节点保持原有顺序。   \n",
    "```\n",
    "示例 :   \n",
    "\n",
    "给定这个链表：1->2->3->4->5   \n",
    "\n",
    "当 k = 2 时，应当返回: 2->1->4->3->5   \n",
    "\n",
    "当 k = 3 时，应当返回: 3->2->1->4->5   \n",
    "```\n",
    "说明 :   \n",
    "\n",
    "你的算法只能使用常数的额外空间。   \n",
    "你不能只是单纯的改变节点内部的值，而是需要实际的进行节点交换。   \n",
    "\n",
    "来源：力扣（LeetCode）   \n",
    "链接：https://leetcode-cn.com/problems/reverse-nodes-in-k-group   \n",
    "著作权归领扣网络所有。商业转载请联系官方授权，非商业转载请注明出处。   "
   ]
  },
  {
   "cell_type": "code",
   "execution_count": 100,
   "metadata": {},
   "outputs": [],
   "source": [
    "# Definition for singly-linked list.\n",
    "# class ListNode:\n",
    "#     def __init__(self, x):\n",
    "#         self.val = x\n",
    "#         self.next = None\n",
    "\n",
    "# 栈实现链表翻转\n",
    "class Solution25:\n",
    "    def reverseKGroup(self, head: ListNode, k: int) -> ListNode:\n",
    "        dummy = ListNode(0)\n",
    "        dummy.next = head\n",
    "        flag = dummy.next\n",
    "        start = dummy\n",
    "        while True:\n",
    "            stack = []\n",
    "            end= flag\n",
    "            count = 0\n",
    "            # 向前探测k个节点\n",
    "            while count<k and flag!=None:\n",
    "                flag = flag.next\n",
    "                count+=1\n",
    "                \n",
    "            if count<k:\n",
    "                break\n",
    "                \n",
    "            # 压栈\n",
    "            while count>0: \n",
    "                stack.append(end)\n",
    "                end = end.next\n",
    "                count -= 1\n",
    "            \n",
    "            # 弹栈\n",
    "            while count<k: \n",
    "                start.next = stack.pop(-1)\n",
    "                start = start.next\n",
    "                count += 1\n",
    "            \n",
    "            start.next = flag\n",
    "        return dummy.next\n",
    "            "
   ]
  },
  {
   "cell_type": "code",
   "execution_count": null,
   "metadata": {},
   "outputs": [],
   "source": [
    "# 尾插法\n",
    "class Solution25_2:\n",
    "    def reverseKGroup(self, head: ListNode, k: int) -> ListNode:\n",
    "        dummy = ListNode(0)\n",
    "        dummy.next = head\n",
    "        tail = dummy\n",
    "        pre = dummy\n",
    "        while True:\n",
    "            count = 0\n",
    "            while count<k and tail.next!=None:\n",
    "                tail = tail.next\n",
    "                count += 1\n",
    "            \n",
    "            if count<k:\n",
    "                break\n",
    "            \n",
    "            # 重置head指针的位置\n",
    "            head = pre.next\n",
    "            # 向tail尾部插入节点\n",
    "            while pre.next!=tail:\n",
    "                # 指定cur指针的位置\n",
    "                cur = pre.next\n",
    "                # 将cur指向的节点卸下来\n",
    "                pre.next = cur.next\n",
    "                # 将卸下来的cur节点插入tail的尾部\n",
    "                cur.next = tail.next\n",
    "                tail.next = cur\n",
    "            # 重置tail和pre指针的位置\n",
    "            tail = head\n",
    "            pre = head\n",
    "        \n",
    "        return dummy.next\n",
    "            "
   ]
  },
  {
   "cell_type": "code",
   "execution_count": 102,
   "metadata": {},
   "outputs": [],
   "source": [
    "# 递归\n",
    "# 递归到最底，然后逐渐向前填充\n",
    "class Solution25_3:\n",
    "    def reverseKGroup(self, head: ListNode, k: int) -> ListNode:\n",
    "        count = 0\n",
    "        tail = head\n",
    "        while count<k and tail!=None:\n",
    "            tail = tail.next\n",
    "            count += 1\n",
    "        \n",
    "        if count == k:\n",
    "            # 返回tail后面翻转好的子链表\n",
    "            tail = self.reverseKGroup(tail,k)\n",
    "            # 从head开始取节点连接到tail节点的前面，同时tail指针也要向前移动\n",
    "            while count>0:\n",
    "                tmp = head.next\n",
    "                head.next = tail\n",
    "                tail = head\n",
    "                head = tmp\n",
    "                count -= 1\n",
    "                \n",
    "            head = tail\n",
    "                \n",
    "        return head"
   ]
  },
  {
   "cell_type": "markdown",
   "metadata": {},
   "source": [
    "# 26. 删除排序数组中的重复项"
   ]
  },
  {
   "cell_type": "markdown",
   "metadata": {},
   "source": [
    "给定一个排序数组，你需要在原地删除重复出现的元素，使得每个元素只出现一次，返回移除后数组的新长度。    \n",
    "\n",
    "不要使用额外的数组空间，你必须在原地修改输入数组并在使用 O(1) 额外空间的条件下完成。    \n",
    "\n",
    "示例 1:   \n",
    "```\n",
    "给定数组 nums = [1,1,2],    \n",
    "\n",
    "函数应该返回新的长度 2, 并且原数组 nums 的前两个元素被修改为 1, 2。    \n",
    "\n",
    "你不需要考虑数组中超出新长度后面的元素。\n",
    "```\n",
    "示例 2:   \n",
    "```\n",
    "给定 nums = [0,0,1,1,1,2,2,3,3,4],   \n",
    "\n",
    "函数应该返回新的长度 5, 并且原数组 nums 的前五个元素被修改为 0, 1, 2, 3, 4。   \n",
    "\n",
    "你不需要考虑数组中超出新长度后面的元素。   \n",
    "```\n",
    "来源：力扣（LeetCode）  \n",
    "链接：https://leetcode-cn.com/problems/remove-duplicates-from-sorted-array   \n",
    "著作权归领扣网络所有。商业转载请联系官方授权，非商业转载请注明出处。   "
   ]
  },
  {
   "cell_type": "code",
   "execution_count": 13,
   "metadata": {},
   "outputs": [],
   "source": [
    "# 双指针\n",
    "class Solution26:\n",
    "    def removeDuplicates(self, nums: List[int]) -> int:\n",
    "        i = 0;\n",
    "        j = 1\n",
    "        k = 0\n",
    "        arr_size = len(nums)\n",
    "        \n",
    "        while k<arr_size-1:\n",
    "            if nums[i]==nums[j]:\n",
    "                nums.pop(j)\n",
    "            else:\n",
    "                i += 1\n",
    "            j = i+1\n",
    "            k += 1\n",
    "        return len(nums)"
   ]
  },
  {
   "cell_type": "code",
   "execution_count": 14,
   "metadata": {},
   "outputs": [],
   "source": [
    "# 双指针\n",
    "class Solution26_2:\n",
    "    def removeDuplicates(self, nums: List[int]) -> int:\n",
    "        i = 0\n",
    "        for j in range(len(nums)):\n",
    "            if nums[i]!=nums[j]:\n",
    "                i += 1\n",
    "                nums[i] = nums[j]\n",
    "        return i+1"
   ]
  },
  {
   "cell_type": "code",
   "execution_count": 12,
   "metadata": {},
   "outputs": [
    {
     "data": {
      "text/plain": [
       "2"
      ]
     },
     "execution_count": 12,
     "metadata": {},
     "output_type": "execute_result"
    }
   ],
   "source": [
    "s = Solution26()\n",
    "nums = [1,1,2]\n",
    "s.removeDuplicates(nums)"
   ]
  },
  {
   "cell_type": "markdown",
   "metadata": {},
   "source": [
    "# 27. 移除元素"
   ]
  },
  {
   "cell_type": "markdown",
   "metadata": {},
   "source": [
    "给定一个数组 nums 和一个值 val，你需要原地移除所有数值等于 val 的元素，返回移除后数组的新长度。   \n",
    "\n",
    "不要使用额外的数组空间，你必须在原地修改输入数组并在使用 O(1) 额外空间的条件下完成。   \n",
    "\n",
    "元素的顺序可以改变。你不需要考虑数组中超出新长度后面的元素。   \n",
    "\n",
    "示例 1:   \n",
    "```\n",
    "给定 nums = [3,2,2,3], val = 3,   \n",
    "\n",
    "函数应该返回新的长度 2, 并且 nums 中的前两个元素均为 2。   \n",
    "\n",
    "你不需要考虑数组中超出新长度后面的元素。   \n",
    "```\n",
    "示例 2:   \n",
    "``` \n",
    "给定 nums = [0,1,2,2,3,0,4,2], val = 2,   \n",
    "\n",
    "函数应该返回新的长度 5, 并且 nums 中的前五个元素为 0, 1, 3, 0, 4。   \n",
    "\n",
    "注意这五个元素可为任意顺序。   \n",
    "\n",
    "你不需要考虑数组中超出新长度后面的元素。   \n",
    "```\n",
    "来源：力扣（LeetCode）   \n",
    "链接：https://leetcode-cn.com/problems/remove-element   \n",
    "著作权归领扣网络所有。商业转载请联系官方授权，非商业转载请注明出处。   "
   ]
  },
  {
   "cell_type": "code",
   "execution_count": 15,
   "metadata": {},
   "outputs": [],
   "source": [
    "class Solution27:\n",
    "    def removeElement(self, nums: List[int], val: int) -> int:\n",
    "        i = 0\n",
    "        for j in range(len(nums)):\n",
    "            if nums[j]!=val:\n",
    "                nums[i] = nums[j]\n",
    "                i += 1\n",
    "        return i\n",
    "        "
   ]
  },
  {
   "cell_type": "markdown",
   "metadata": {},
   "source": [
    "# 28. 实现strStr"
   ]
  },
  {
   "cell_type": "markdown",
   "metadata": {},
   "source": [
    "给定一个 haystack 字符串和一个 needle 字符串，在 haystack 字符串中找出 needle 字符串出现的第一个位置 (从0开始)。如果不存在，则返回-1。   \n",
    "\n",
    "示例 1:   \n",
    "```\n",
    "输入: haystack = \"hello\", needle = \"ll\"   \n",
    "输出: 2   \n",
    "```\n",
    "示例 2:   \n",
    "```\n",
    "输入: haystack = \"aaaaa\", needle = \"bba\"   \n",
    "输出: -1   \n",
    "```\n",
    "说明:   \n",
    "\n",
    "当 needle 是空字符串时，我们应当返回什么值呢？这是一个在面试中很好的问题。   \n",
    "\n",
    "对于本题而言，当 needle 是空字符串时我们应当返回 0 。这与C语言的 strstr() 以及 Java的 indexOf() 定义相符。   \n",
    "\n",
    "来源：力扣（LeetCode）   \n",
    "链接：https://leetcode-cn.com/problems/implement-strstr   \n",
    "著作权归领扣网络所有。商业转载请联系官方授权，非商业转载请注明出处。   "
   ]
  },
  {
   "cell_type": "markdown",
   "metadata": {},
   "source": []
  },
  {
   "cell_type": "code",
   "execution_count": 19,
   "metadata": {},
   "outputs": [],
   "source": [
    "# 超时\n",
    "class Solution28:\n",
    "    def strStr(self, haystack: str, needle: str) -> int:\n",
    "        \n",
    "        needle_size = len(needle)\n",
    "        haystack_size = len(haystack)\n",
    "        \n",
    "        if needle_size == 0 :\n",
    "            return 0\n",
    "        \n",
    "        for i in range(haystack_size):\n",
    "            if haystack[i] != needle[0]:\n",
    "                continue\n",
    "            for j in range(needle_size):\n",
    "                if (i+j) >= haystack_size:\n",
    "                    break\n",
    "                elif haystack[i+j] != needle[j]:\n",
    "                    break\n",
    "                elif haystack[i+j] == needle[j] and j == needle_size-1:\n",
    "                    return i\n",
    "        return -1"
   ]
  },
  {
   "cell_type": "code",
   "execution_count": 22,
   "metadata": {},
   "outputs": [],
   "source": [
    "# 略微优化\n",
    "class Solution28_2:\n",
    "    def strStr(self, haystack: str, needle: str) -> int:\n",
    "        \n",
    "        needle_size = len(needle)\n",
    "        haystack_size = len(haystack)\n",
    "        \n",
    "        if needle_size == 0 :\n",
    "            return 0\n",
    "        if needle_size > haystack_size:\n",
    "            return -1\n",
    "        if needle_size == haystack_size:\n",
    "            return 0 if haystack == needle else -1\n",
    "        \n",
    "        for i in range(haystack_size-needle_size+1):\n",
    "            k = 0 \n",
    "            if haystack[i] != needle[0]:\n",
    "                continue\n",
    "            for j in range(needle_size):\n",
    "                if haystack[i+j] != needle[j]:\n",
    "                    break\n",
    "                else:\n",
    "                    k += 1\n",
    "            if k==needle_size:\n",
    "                return i\n",
    "        return -1"
   ]
  },
  {
   "cell_type": "markdown",
   "metadata": {},
   "source": [
    "# 29. 两数相除"
   ]
  },
  {
   "cell_type": "markdown",
   "metadata": {},
   "source": [
    "给定两个整数，被除数 dividend 和除数 divisor。将两数相除，要求不使用乘法、除法和 mod 运算符。   \n",
    "\n",
    "返回被除数 dividend 除以除数 divisor 得到的商。   \n",
    "\n",
    "示例 1:   \n",
    "```\n",
    "输入: dividend = 10, divisor = 3   \n",
    "输出: 3   \n",
    "```\n",
    "示例 2:   \n",
    "```\n",
    "输入: dividend = 7, divisor = -3   \n",
    "输出: -2   \n",
    "```\n",
    "说明:   \n",
    "\n",
    "被除数和除数均为 32 位有符号整数。   \n",
    "除数不为 0。   \n",
    "假设我们的环境只能存储 32 位有符号整数，其数值范围是 [−231,  231 − 1]。本题中，如果除法结果溢出，则返回 231 − 1。   \n",
    "\n",
    "来源：力扣（LeetCode）   \n",
    "链接：https://leetcode-cn.com/problems/divide-two-integers   \n",
    "著作权归领扣网络所有。商业转载请联系官方授权，非商业转载请注明出处。   "
   ]
  },
  {
   "cell_type": "code",
   "execution_count": 25,
   "metadata": {},
   "outputs": [],
   "source": [
    "# 超时\n",
    "class Solution29:\n",
    "    def divide(self, dividend: int, divisor: int) -> int:\n",
    "        flag = 1\n",
    "        \n",
    "        if dividend==0:\n",
    "            return 0\n",
    "        \n",
    "        if dividend<0 and divisor>0 or dividend>0 and divisor<0:\n",
    "            flag = -1\n",
    "        a = abs(dividend)\n",
    "        b = abs(divisor)\n",
    "        \n",
    "        res = 0\n",
    "        while a>=b:\n",
    "            res+=1\n",
    "            a -= b\n",
    "        if flag == -1:\n",
    "            res = -res\n",
    "        return res"
   ]
  },
  {
   "cell_type": "code",
   "execution_count": 65,
   "metadata": {},
   "outputs": [],
   "source": [
    "class Solution29_1:\n",
    "    def divide(self, dividend: int, divisor: int) -> int:\n",
    "        flag = 1\n",
    "        \n",
    "        if dividend==0:\n",
    "            return 0\n",
    "        \n",
    "        if dividend<0 and divisor>0 or dividend>0 and divisor<0:\n",
    "            flag = -1\n",
    "        a = abs(dividend)\n",
    "        b = abs(divisor)\n",
    "        \n",
    "        res = 0\n",
    "        \n",
    "        # 通过位运算找到商\n",
    "        while a>=b:\n",
    "            k = 1\n",
    "            base = b\n",
    "            while a > (base):\n",
    "                k = 1<<1\n",
    "                base = base<<1\n",
    "                print(base)\n",
    "            a -= base\n",
    "            res += k\n",
    "            \n",
    "        if flag == -1:\n",
    "            res = -res\n",
    "        return res"
   ]
  },
  {
   "cell_type": "code",
   "execution_count": 199,
   "metadata": {},
   "outputs": [],
   "source": [
    "# 位运算\n",
    "class Solution29_2:\n",
    "    def divide(self, dividend: int, divisor: int) -> int:\n",
    "        flag = 1\n",
    "        \n",
    "        if dividend==0:\n",
    "            return 0\n",
    "        \n",
    "        if dividend<0 and divisor>0 or dividend>0 and divisor<0:\n",
    "            flag = -1\n",
    "        a = abs(dividend)\n",
    "        b = abs(divisor)\n",
    "        \n",
    "        res = 0\n",
    "        \n",
    "        # 通过位运算找到商\n",
    "        while a>=b:\n",
    "            k = 1\n",
    "            base = b\n",
    "            while a > (base<<1):\n",
    "                k = k<<1\n",
    "                base = base<<1\n",
    "            a -= base\n",
    "            res += k\n",
    "        \n",
    "        if flag == -1:\n",
    "            res = -res\n",
    "            \n",
    "        return min(res,2**31-1)"
   ]
  },
  {
   "cell_type": "markdown",
   "metadata": {},
   "source": [
    "给定一个字符串 s 和一些长度相同的单词 words。找出 s 中恰好可以由 words 中所有单词串联形成的子串的起始位置。   \n",
    "\n",
    "注意子串要与 words 中的单词完全匹配，中间不能有其他字符，但不需要考虑 words 中单词串联的顺序。   \n",
    "\n",
    "示例 1：   \n",
    "```\n",
    "输入：   \n",
    "  s = \"barfoothefoobarman\",   \n",
    "  words = [\"foo\",\"bar\"]   \n",
    "输出：[0,9]    \n",
    "解释：   \n",
    "从索引 0 和 9 开始的子串分别是 \"barfoor\" 和 \"foobar\" 。   \n",
    "输出的顺序不重要, [9,0] 也是有效答案。   \n",
    "```\n",
    "示例 2：   \n",
    "```\n",
    "输入：   \n",
    "  s = \"wordgoodgoodgoodbestword\",   \n",
    "  words = [\"word\",\"good\",\"best\",\"word\"]   \n",
    "输出：[]   \n",
    "```\n",
    "来源：力扣（LeetCode）   \n",
    "链接：https://leetcode-cn.com/problems/substring-with-concatenation-of-all-words   \n",
    "著作权归领扣网络所有。商业转载请联系官方授权，非商业转载请注明出处。   "
   ]
  },
  {
   "cell_type": "code",
   "execution_count": 91,
   "metadata": {},
   "outputs": [],
   "source": [
    "# 暴力扫描\n",
    "class Solution30:\n",
    "    def findSubstring(self, s: str, words: List[str]) -> List[int]:\n",
    "        if len(words)==0:\n",
    "            return []\n",
    "        \n",
    "        word_len = len(words[0])\n",
    "        words_len = len(words)\n",
    "        sub_str_len = word_len*words_len\n",
    "        str_len = len(s)\n",
    "        \n",
    "        if str_len<sub_str_len:\n",
    "            return []\n",
    "        \n",
    "        res = []\n",
    "        \n",
    "        for i in range(0,str_len-sub_str_len+1):\n",
    "            l = []\n",
    "            # add word\n",
    "            for word in words:\n",
    "                l.append(word)\n",
    "            \n",
    "            for j in range(i,str_len,word_len):\n",
    "                tmp = s[j:j+word_len]\n",
    "                if tmp in l:\n",
    "                    l.remove(tmp)\n",
    "                else:\n",
    "                    break\n",
    "            \n",
    "            if len(l) == 0:\n",
    "                res.append(i)\n",
    "        \n",
    "        return res"
   ]
  },
  {
   "cell_type": "markdown",
   "metadata": {},
   "source": [
    "# 31. 下一个排列"
   ]
  },
  {
   "cell_type": "markdown",
   "metadata": {},
   "source": [
    "实现获取下一个排列的函数，算法需要将给定数字序列重新排列成字典序中下一个更大的排列。   \n",
    "\n",
    "如果不存在下一个更大的排列，则将数字重新排列成最小的排列（即升序排列）。   \n",
    "\n",
    "必须原地修改，只允许使用额外常数空间。   \n",
    "\n",
    "以下是一些例子，输入位于左侧列，其相应输出位于右侧列。    \n",
    "```\n",
    "1,2,3 → 1,3,2    \n",
    "3,2,1 → 1,2,3   \n",
    "1,1,5 → 1,5,1   \n",
    "```\n",
    "来源：力扣（LeetCode）   \n",
    "链接：https://leetcode-cn.com/problems/next-permutation   \n",
    "著作权归领扣网络所有。商业转载请联系官方授权，非商业转载请注明出处。   "
   ]
  },
  {
   "cell_type": "code",
   "execution_count": 95,
   "metadata": {},
   "outputs": [],
   "source": [
    "'''\n",
    "1. 先找出最大的k,满足nums[k]<nums[k+1],若不存在，就翻转整个数组\n",
    "2. 再找出另一个最大索引l，满足nums[l]>nums[k]；\n",
    "3. 交换nums[l]和nums[k]\n",
    "4. 最后翻转nums[k+1:]\n",
    "'''\n",
    "class Solution31:\n",
    "    def nextPermutation(self, nums: List[int]) -> None:\n",
    "        \"\"\"\n",
    "        Do not return anything, modify nums in-place instead.\n",
    "        \"\"\"\n",
    "        nums_len = len(nums)    \n",
    "        index_k = -1\n",
    "        \n",
    "        for i in range(nums_len-2,-1,-1):\n",
    "            if nums[i]<nums[i+1]:\n",
    "                index_k = i\n",
    "                break\n",
    "        \n",
    "        if index_k == -1:\n",
    "            return self.reverse(nums,0,nums_len-1)\n",
    "        \n",
    "        index_l = -1\n",
    "        \n",
    "        for j in range(nums_len-1,index_k,-1):\n",
    "            if nums[j]>nums[index_k]:\n",
    "                index_l = j\n",
    "                break\n",
    "        \n",
    "        nums[index_k],nums[index_l] = nums[index_l],nums[index_k]\n",
    "        \n",
    "        return self.reverse(nums,index_k+1,nums_len-1)\n",
    "    \n",
    "    def reverse(self,nums,i,j):\n",
    "        while i<j:\n",
    "            nums[i],nums[j] = nums[j],nums[i]\n",
    "            i += 1\n",
    "            j -= 1"
   ]
  },
  {
   "cell_type": "code",
   "execution_count": 101,
   "metadata": {},
   "outputs": [],
   "source": [
    "class Solution:\n",
    "    def longestValidParentheses(self, s: str) -> int:\n",
    "        s_len = len(s)\n",
    "        \n",
    "        res = 0\n",
    "        for i in range(s_len):\n",
    "            tmp = self.isvalid(s,i)\n",
    "            if tmp>res:\n",
    "                res = tmp\n",
    "        \n",
    "        return res\n",
    "    \n",
    "    def isvalid(self,s,start):\n",
    "            stack = []\n",
    "            count = 0\n",
    "            for ch in s[start:]:\n",
    "                if ch=='(':\n",
    "                    stack.append('(')\n",
    "                elif ch==')':\n",
    "                    if len(stack)!=0:\n",
    "                        stack.pop(-1)\n",
    "                        count += 1\n",
    "                    else:\n",
    "                        return count*2\n",
    "                \n",
    "            return count*2\n",
    "        "
   ]
  },
  {
   "cell_type": "code",
   "execution_count": 102,
   "metadata": {},
   "outputs": [
    {
     "data": {
      "text/plain": [
       "4"
      ]
     },
     "execution_count": 102,
     "metadata": {},
     "output_type": "execute_result"
    }
   ],
   "source": [
    "s = Solution()\n",
    "s.longestValidParentheses('()(()')"
   ]
  },
  {
   "cell_type": "markdown",
   "metadata": {},
   "source": [
    "# 32. 最长有效括号"
   ]
  },
  {
   "cell_type": "markdown",
   "metadata": {},
   "source": [
    "给定一个只包含 '(' 和 ')' 的字符串，找出最长的包含有效括号的子串的长度。   \n",
    "\n",
    "示例 1:   \n",
    "```\n",
    "输入: \"(()\"   \n",
    "输出: 2   \n",
    "解释: 最长有效括号子串为 \"()\"    \n",
    "```\n",
    "示例 2:    \n",
    "```\n",
    "输入: \")()()\"    \n",
    "输出: 4    \n",
    "解释: 最长有效括号子串为 \"()()\"    \n",
    "```\n",
    "来源：力扣（LeetCode）    \n",
    "链接：https://leetcode-cn.com/problems/longest-valid-parentheses    \n",
    "著作权归领扣网络所有。商业转载请联系官方授权，非商业转载请注明出处。    "
   ]
  },
  {
   "cell_type": "code",
   "execution_count": 104,
   "metadata": {},
   "outputs": [],
   "source": [
    "# 超时\n",
    "class Solution:\n",
    "    def longestValidParentheses(self, s: str) -> int:\n",
    "        s_len = len(s)\n",
    "        \n",
    "        res = 0\n",
    "        for i in range(0,s_len):\n",
    "            for j in range(i+1,s_len+1):\n",
    "                tmp = self.isvalid(s[i:j])\n",
    "                if tmp>res:\n",
    "                    res = tmp\n",
    "        \n",
    "        return res\n",
    "    \n",
    "    def isvalid(self,s):\n",
    "            stack = []\n",
    "            count = 0\n",
    "            for ch in s:\n",
    "                if ch=='(':\n",
    "                    stack.append('(')\n",
    "                elif ch==')':\n",
    "                    if len(stack)!=0:\n",
    "                        stack.pop(-1)\n",
    "                        count += 1\n",
    "                    else:\n",
    "                        break       \n",
    "                \n",
    "            if len(stack) !=0:\n",
    "                return 0\n",
    "            else:\n",
    "                return count*2"
   ]
  },
  {
   "cell_type": "code",
   "execution_count": 106,
   "metadata": {},
   "outputs": [],
   "source": [
    "'''\n",
    "一般对于最长XX问题容易想到利用DP求解，在这题中利用逆向DP，设状态dp[i]为从i到len - 1中，以i开头的最长合法子串长度：\n",
    "初始化：dp[len - 1] = 0\n",
    "如果s[i] = ')'，则跳过，因为不可能有由'('开头的串\n",
    "如果s[i] = '('，则需要找到右括号和它匹配，可以跳过以i + 1开头的合法子串，则需要看j = i + dp[i + 1] + 1是否为右括号。\n",
    "如果没越界且为右括号，那么有dp[i] = dp[i + 1] + 2，此外在这个基础上还要将j + 1开头的子串加进来（只要不越界）\n",
    "https://www.cnblogs.com/hlk09/p/9559952.html\n",
    "'''\n",
    "class Solution32_2:\n",
    "    # dp\n",
    "    def longestValidParentheses(self, s: str) -> int:\n",
    "        s_len = len(s)\n",
    "        dp = [0 for i in range(s_len)]\n",
    "        res = 0\n",
    "        for i in range(s_len-2,-1,-1):\n",
    "            if s[i]==')':\n",
    "                dp[i] = 0\n",
    "            else:\n",
    "                j = i+dp[i+1]+1\n",
    "                if j<s_len and s[j]==')':\n",
    "                    dp[i] = dp[i+1]+2\n",
    "                    if j+1<s_len:\n",
    "                        dp[i]+=dp[j+1]\n",
    "                    res = max(res,dp[i])\n",
    "        \n",
    "        return res"
   ]
  },
  {
   "cell_type": "code",
   "execution_count": 107,
   "metadata": {},
   "outputs": [],
   "source": [
    "'''\n",
    "需要利用一个变量start来记录有效子串的起始下标，res表示答案。\n",
    "\n",
    "遍历所有字符\n",
    "\n",
    "如果当前字符s[index]为'('，将index入栈\n",
    "否则判断栈是否为空：\n",
    "    如果为空，则说明这个右括号无效，不影响结果，start = index + 1\n",
    "    如果不为空，则出栈，即找到一个左括号和它匹配\n",
    "        如果栈空，则说明从start到index的匹配完了，res = max(res, index - start + 1)\n",
    "        如果栈不为空，则res = max(res, index - s[栈顶])，即栈顶+ 1 ~~ index都匹配了\n",
    "https://www.cnblogs.com/hlk09/p/9559952.html\n",
    "'''\n",
    "class Solution32_3:\n",
    "    # stack\n",
    "    def longestValidParentheses(self, s: str) -> int:\n",
    "        s_len = len(s)\n",
    "        stack = []\n",
    "        res = 0\n",
    "        start = 0\n",
    "        for i in range(s_len):\n",
    "            if s[i]=='(':\n",
    "                stack.append(i)\n",
    "            else:\n",
    "                if len(stack)!=0:\n",
    "                    e = stack.pop(-1)\n",
    "                    if len(stack)==0:\n",
    "                        res = max(res,i-start+1)\n",
    "                    else:\n",
    "                        peek = stack[len(stack)-1]\n",
    "                        res = max(res,i-peek)\n",
    "                else:\n",
    "                    start = i+1\n",
    "                    \n",
    "        return res"
   ]
  },
  {
   "cell_type": "markdown",
   "metadata": {},
   "source": [
    "# 33 搜索旋转排序数组"
   ]
  },
  {
   "cell_type": "markdown",
   "metadata": {},
   "source": [
    "假设按照升序排序的数组在预先未知的某个点上进行了旋转。   \n",
    "\n",
    "( 例如，数组 [0,1,2,4,5,6,7] 可能变为 [4,5,6,7,0,1,2] )。   \n",
    "\n",
    "搜索一个给定的目标值，如果数组中存在这个目标值，则返回它的索引，否则返回 -1 。   \n",
    "\n",
    "你可以假设数组中不存在重复的元素。   \n",
    "\n",
    "你的算法时间复杂度必须是 O(log n) 级别。   \n",
    " \n",
    "示例 1:   \n",
    "```\n",
    "输入: nums = [4,5,6,7,0,1,2], target = 0   \n",
    "输出: 4   \n",
    "```\n",
    "示例 2:   \n",
    "```\n",
    "输入: nums = [4,5,6,7,0,1,2], target = 3   \n",
    "输出: -1   \n",
    "```\n",
    "来源：力扣（LeetCode）   \n",
    "链接：https://leetcode-cn.com/problems/search-in-rotated-sorted-array   \n",
    "著作权归领扣网络所有。商业转载请联系官方授权，非商业转载请注明出处。   "
   ]
  },
  {
   "cell_type": "code",
   "execution_count": 109,
   "metadata": {},
   "outputs": [],
   "source": [
    "class Solution33:\n",
    "    def search(self, nums: List[int], target: int) -> int:\n",
    "        # 二分查找\n",
    "        arr_len = len(nums)\n",
    "        left = 0 \n",
    "        right = arr_len - 1\n",
    "        \n",
    "        while left<=right:\n",
    "            mid = (left+right)//2\n",
    "            \n",
    "            if nums[mid] == target:\n",
    "                return mid\n",
    "            \n",
    "            if nums[mid] < nums[right]:\n",
    "                if target>nums[mid] and target<=nums[right]:\n",
    "                    left = mid+1\n",
    "                else:\n",
    "                    right = mid-1\n",
    "            else:\n",
    "                if target<nums[mid] and target>=nums[left]:\n",
    "                    right = mid-1\n",
    "                else:\n",
    "                    left = mid+1\n",
    "        return -1"
   ]
  },
  {
   "cell_type": "markdown",
   "metadata": {},
   "source": [
    "## 解题思路"
   ]
  },
  {
   "cell_type": "markdown",
   "metadata": {},
   "source": [
    "这道题让在旋转数组中搜索一个给定值，若存在返回坐标，若不存在返回-1。   \n",
    "我们还是考虑二分搜索法，但是这道题的难点在于我们不知道原数组在哪旋转了。   \n",
    "我们还是用题目中给的例子来分析，对于数组[0 1 2 4 5 6 7] 共有下列七种旋转方法：   \n",
    "\n",
    "0　　1　　2　　 **4　　5　　6　　7**\n",
    "\n",
    "7　　0　　1　　 **2　　4　　5　　6**\n",
    "\n",
    "6　　7　　0　　 **1　　2　　4　　5**\n",
    "\n",
    "5　　6　　7　　 **0　　1　　2　　4**\n",
    "\n",
    "**4　　5　　6　　7**　　0　　1　　2   \n",
    "\n",
    "**2　　4　　5　　6**　　7　　0　　1   \n",
    "\n",
    "**1　　2　　4　　5**　　6　　7　　0   \n",
    "\n",
    "二分搜索法的关键在于获得了中间数后，判断下面要搜索左半段还是右半段。  \n",
    "我们观察上面加粗的数字都是升序的。   \n",
    "由此我们可以观察出规律，如果中间的数小于最右边的数，则右半段是有序的，若中间数大于最右边数，则左半段是有序的。   \n",
    "我们只要在有序的半段里用首尾两个数组来判断目标值是否在这一区域内，这样就可以确定保留哪半边了  "
   ]
  },
  {
   "cell_type": "markdown",
   "metadata": {},
   "source": [
    "# 34. 在排序数组中查找元素的第一个位置和最后一个位置"
   ]
  },
  {
   "cell_type": "markdown",
   "metadata": {},
   "source": [
    "给定一个按照升序排列的整数数组 nums，和一个目标值 target。找出给定目标值在数组中的开始位置和结束位置。   \n",
    "\n",
    "你的算法时间复杂度必须是 O(log n) 级别。   \n",
    "\n",
    "如果数组中不存在目标值，返回 [-1, -1]。   \n",
    "\n",
    "示例 1:   \n",
    "```\n",
    "输入: nums = [5,7,7,8,8,10], target = 8   \n",
    "输出: [3,4]   \n",
    "```\n",
    "示例 2:   \n",
    "```\n",
    "输入: nums = [5,7,7,8,8,10], target = 6    \n",
    "输出: [-1,-1]    \n",
    "```\n",
    "来源：力扣（LeetCode）    \n",
    "链接：https://leetcode-cn.com/problems/find-first-and-last-position-of-element-in-sorted-array    \n",
    "著作权归领扣网络所有。商业转载请联系官方授权，非商业转载请注明出处。    "
   ]
  },
  {
   "cell_type": "markdown",
   "metadata": {},
   "source": [
    "## 二分查找及其变形"
   ]
  },
  {
   "cell_type": "markdown",
   "metadata": {},
   "source": [
    "https://www.cnblogs.com/curo0119/p/8589554.html"
   ]
  },
  {
   "cell_type": "code",
   "execution_count": null,
   "metadata": {},
   "outputs": [],
   "source": [
    "class Solution_34:\n",
    "    def searchRange(self, nums: List[int], target: int) -> List[int]:\n",
    "        # 两次使用二分查找，第一次查找左边界，第二次查找右边界\n",
    "        nums_len = len(nums)\n",
    "        \n",
    "        if nums_len==0:return [-1,-1]\n",
    "        \n",
    "        l = 0\n",
    "        r = nums_len-1\n",
    "        l_index = -1\n",
    "        \n",
    "        # 查找左边界\n",
    "        while l<r:\n",
    "            mid = (l + r)//2\n",
    "            if nums[mid]>=target:\n",
    "                r = mid\n",
    "            else:\n",
    "                l = mid + 1\n",
    "        l_index = l if nums[l]==target else -1\n",
    "        \n",
    "        # 查找右边界\n",
    "        l = 0\n",
    "        r = nums_len-1\n",
    "        while l<r:\n",
    "            mid = (l + r + 1)//2\n",
    "            if nums[mid]>target:\n",
    "                r = mid - 1\n",
    "            else:\n",
    "                l = mid\n",
    "        \n",
    "        r_index = r if nums[r]==target else -1\n",
    "        \n",
    "        return [l_index,r_index]"
   ]
  },
  {
   "cell_type": "code",
   "execution_count": 151,
   "metadata": {},
   "outputs": [],
   "source": [
    "class Solution34_2:\n",
    "    def searchRange(self, nums: List[int], target: int) -> List[int]:\n",
    "        # 两次使用二分查找，第一次查找左边界，第二次查找右边界\n",
    "        nums_len = len(nums)\n",
    "        l = 0\n",
    "        r = nums_len-1\n",
    "        l_index = -1\n",
    "        \n",
    "        # 查找左边界\n",
    "        while l<=r:\n",
    "            mid = (l + r)//2\n",
    "            if nums[mid]>=target:\n",
    "                r = mid - 1\n",
    "            else:\n",
    "                l = mid + 1\n",
    "        l_index = l if l<=nums_len-1 and nums[l]==target else -1\n",
    "        \n",
    "        # 查找右边界\n",
    "        l = 0\n",
    "        r = nums_len-1\n",
    "        while l<=r:\n",
    "            mid = (l + r)//2\n",
    "            if nums[mid]>target:\n",
    "                r = mid -1\n",
    "            else:\n",
    "                l = mid + 1\n",
    "        \n",
    "        r_index = r if r>=0 and nums[r]==target else -1\n",
    "        \n",
    "        return [l_index,r_index]"
   ]
  },
  {
   "cell_type": "markdown",
   "metadata": {},
   "source": [
    "# 35. 搜索插入位置"
   ]
  },
  {
   "cell_type": "markdown",
   "metadata": {},
   "source": [
    "给定一个排序数组和一个目标值，在数组中找到目标值，并返回其索引。如果目标值不存在于数组中，返回它将会被按顺序插入的位置。     \n",
    "\n",
    "你可以假设数组中无重复元素。     \n",
    "\n",
    "示例 1:   \n",
    "```\n",
    "输入: [1,3,5,6], 5   \n",
    "输出: 2   \n",
    "```\n",
    "示例 2:   \n",
    "```\n",
    "输入: [1,3,5,6], 2   \n",
    "输出: 1   \n",
    "```\n",
    "示例 3:   \n",
    "```\n",
    "输入: [1,3,5,6], 7   \n",
    "输出: 4   \n",
    "```\n",
    "示例 4:   \n",
    "```\n",
    "输入: [1,3,5,6], 0   \n",
    "输出: 0   \n",
    "```\n",
    "来源：力扣（LeetCode）   \n",
    "链接：https://leetcode-cn.com/problems/search-insert-position   \n",
    "著作权归领扣网络所有。商业转载请联系官方授权，非商业转载请注明出处。   "
   ]
  },
  {
   "cell_type": "code",
   "execution_count": 153,
   "metadata": {},
   "outputs": [],
   "source": [
    "# 二分查找\n",
    "class Solution_35:\n",
    "    def searchInsert(self, nums: List[int], target: int) -> int:\n",
    "        nums_len = len(nums)\n",
    "        l = 0\n",
    "        r = nums_len -1\n",
    "        while l <= r:\n",
    "            mid = (l + r) // 2\n",
    "            if nums[mid] == target:\n",
    "                return mid\n",
    "            elif nums[mid] > target:\n",
    "                r = mid - 1\n",
    "            else:\n",
    "                l = mid + 1\n",
    "            \n",
    "        return l"
   ]
  },
  {
   "cell_type": "markdown",
   "metadata": {},
   "source": [
    "# 36. 有效的数独"
   ]
  },
  {
   "cell_type": "markdown",
   "metadata": {},
   "source": [
    "判断一个 9x9 的数独是否有效。只需要根据以下规则，验证已经填入的数字是否有效即可。   \n",
    "\n",
    "数字 1-9 在每一行只能出现一次。   \n",
    "数字 1-9 在每一列只能出现一次。   \n",
    "数字 1-9 在每一个以粗实线分隔的 3x3 宫内只能出现一次。   \n",
    "\n",
    "![](https://upload.wikimedia.org/wikipedia/commons/thumb/f/ff/Sudoku-by-L2G-20050714.svg/250px-Sudoku-by-L2G-20050714.svg.png)\n",
    "上图是一个部分填充的有效的数独。   \n",
    "\n",
    "数独部分空格内已填入了数字，空白格用 '.' 表示。   \n",
    "\n",
    "示例 1:   \n",
    "```\n",
    "输入:   \n",
    "[    \n",
    "  [\"5\",\"3\",\".\",\".\",\"7\",\".\",\".\",\".\",\".\"],   \n",
    "  [\"6\",\".\",\".\",\"1\",\"9\",\"5\",\".\",\".\",\".\"],   \n",
    "  [\".\",\"9\",\"8\",\".\",\".\",\".\",\".\",\"6\",\".\"],   \n",
    "  [\"8\",\".\",\".\",\".\",\"6\",\".\",\".\",\".\",\"3\"],   \n",
    "  [\"4\",\".\",\".\",\"8\",\".\",\"3\",\".\",\".\",\"1\"],   \n",
    "  [\"7\",\".\",\".\",\".\",\"2\",\".\",\".\",\".\",\"6\"],   \n",
    "  [\".\",\"6\",\".\",\".\",\".\",\".\",\"2\",\"8\",\".\"],   \n",
    "  [\".\",\".\",\".\",\"4\",\"1\",\"9\",\".\",\".\",\"5\"],   \n",
    "  [\".\",\".\",\".\",\".\",\"8\",\".\",\".\",\"7\",\"9\"]   \n",
    "]   \n",
    "输出: true   \n",
    "```\n",
    "示例 2:    \n",
    "```\n",
    "输入:    \n",
    "[    \n",
    "  [\"8\",\"3\",\".\",\".\",\"7\",\".\",\".\",\".\",\".\"],    \n",
    "  [\"6\",\".\",\".\",\"1\",\"9\",\"5\",\".\",\".\",\".\"],   \n",
    "  [\".\",\"9\",\"8\",\".\",\".\",\".\",\".\",\"6\",\".\"],    \n",
    "  [\"8\",\".\",\".\",\".\",\"6\",\".\",\".\",\".\",\"3\"],    \n",
    "  [\"4\",\".\",\".\",\"8\",\".\",\"3\",\".\",\".\",\"1\"],    \n",
    "  [\"7\",\".\",\".\",\".\",\"2\",\".\",\".\",\".\",\"6\"],    \n",
    "  [\".\",\"6\",\".\",\".\",\".\",\".\",\"2\",\"8\",\".\"],    \n",
    "  [\".\",\".\",\".\",\"4\",\"1\",\"9\",\".\",\".\",\"5\"],    \n",
    "  [\".\",\".\",\".\",\".\",\"8\",\".\",\".\",\"7\",\"9\"]    \n",
    "]    \n",
    "输出: false    \n",
    "```\n",
    "解释: 除了第一行的第一个数字从 5 改为 8 以外，空格内其他数字均与 示例1 相同。    \n",
    "     但由于位于左上角的 3x3 宫内有两个 8 存在, 因此这个数独是无效的。    \n",
    "说明:     \n",
    "\n",
    "一个有效的数独（部分已被填充）不一定是可解的。    \n",
    "只需要根据以上规则，验证已经填入的数字是否有效即可。    \n",
    "给定数独序列只包含数字 1-9 和字符 '.' 。   \n",
    "给定数独永远是 9x9 形式的。   \n",
    "\n",
    "来源：力扣（LeetCode）   \n",
    "链接：https://leetcode-cn.com/problems/valid-sudoku     \n",
    "著作权归领扣网络所有。商业转载请联系官方授权，非商业转载请注明出处。   "
   ]
  },
  {
   "cell_type": "code",
   "execution_count": 176,
   "metadata": {},
   "outputs": [],
   "source": [
    "class Solution_36:\n",
    "    # 一次遍历完成检验\n",
    "    def isValidSudoku(self, board: List[List[str]]) -> bool:\n",
    "        col = [{} for i in range(9)]\n",
    "        row = [{} for i in range(9)]\n",
    "        box = [{} for i in range(9)]\n",
    "        \n",
    "        for i in range(9):\n",
    "            for j in range(9):\n",
    "                box_index= 3*(i//3) + j//3\n",
    "                if board[i][j]!='.':\n",
    "                    row[i][board[i][j]] = row[i].get(board[i][j],0)+1\n",
    "                    col[j][board[i][j]] = col[j].get(board[i][j],0)+1\n",
    "                    box[box_index][board[i][j]] = box[box_index].get(board[i][j],0)+1\n",
    "                    \n",
    "                    if row[i][board[i][j]] > 1 or col[j][board[i][j]] > 1 or box[box_index][board[i][j]] > 1:\n",
    "                        return False\n",
    "       \n",
    "        return True"
   ]
  },
  {
   "cell_type": "code",
   "execution_count": 178,
   "metadata": {},
   "outputs": [
    {
     "data": {
      "text/plain": [
       "True"
      ]
     },
     "execution_count": 178,
     "metadata": {},
     "output_type": "execute_result"
    }
   ],
   "source": [
    "s = Solution_36()\n",
    "board = [\n",
    "  [\"5\",\"3\",\".\",\".\",\"7\",\".\",\".\",\".\",\".\"],\n",
    "  [\"6\",\".\",\".\",\"1\",\"9\",\"5\",\".\",\".\",\".\"],\n",
    "  [\".\",\"9\",\"8\",\".\",\".\",\".\",\".\",\"6\",\".\"],\n",
    "  [\"8\",\".\",\".\",\".\",\"6\",\".\",\".\",\".\",\"3\"],\n",
    "  [\"4\",\".\",\".\",\"8\",\".\",\"3\",\".\",\".\",\"1\"],\n",
    "  [\"7\",\".\",\".\",\".\",\"2\",\".\",\".\",\".\",\"6\"],\n",
    "  [\".\",\"6\",\".\",\".\",\".\",\".\",\"2\",\"8\",\".\"],\n",
    "  [\".\",\".\",\".\",\"4\",\"1\",\"9\",\".\",\".\",\"5\"],\n",
    "  [\".\",\".\",\".\",\".\",\"8\",\".\",\".\",\"7\",\"9\"]\n",
    "]\n",
    "s.isValidSudoku(board)"
   ]
  },
  {
   "cell_type": "markdown",
   "metadata": {},
   "source": [
    "# 38.报数"
   ]
  },
  {
   "cell_type": "markdown",
   "metadata": {},
   "source": [
    "报数序列是一个整数序列，按照其中的整数的顺序进行报数，得到下一个数。其前五项如下：     \n",
    "\n",
    "1. 1   \n",
    "2. 11   \n",
    "3. 21   \n",
    "4. 1211  \n",
    "5. 111221  \n",
    "\n",
    "1 被读作  \"one 1\"  (\"一个一\") , 即 11。   \n",
    "11 被读作 \"two 1s\" (\"两个一\"）, 即 21。   \n",
    "21 被读作 \"one 2\",  \"one 1\" （\"一个二\" ,  \"一个一\") , 即 1211。   \n",
    "\n",
    "给定一个正整数 n（1 ≤ n ≤ 30），输出报数序列的第 n 项。   \n",
    "\n",
    "注意：整数顺序将表示为一个字符串。   \n",
    "\n",
    "示例 1:    \n",
    "```\n",
    "输入: 1   \n",
    "输出: \"1\"   \n",
    "```\n",
    "示例 2:   \n",
    "```\n",
    "输入: 4   \n",
    "输出: \"1211\"   \n",
    "```\n",
    "来源：力扣（LeetCode）   \n",
    "链接：https://leetcode-cn.com/problems/count-and-say   \n",
    "著作权归领扣网络所有。商业转载请联系官方授权，非商业转载请注明出处。   "
   ]
  },
  {
   "cell_type": "code",
   "execution_count": 188,
   "metadata": {},
   "outputs": [],
   "source": [
    "class Solution_38:\n",
    "    def countAndSay(self, n: int) -> str:   \n",
    "        def next_num(s):\n",
    "            res = ''\n",
    "            s_len = len(s)\n",
    "            \n",
    "            i = 0\n",
    "            while i<s_len:\n",
    "                count = 1\n",
    "                while i<s_len -1 and s[i] == s[i+1]:\n",
    "                    count += 1\n",
    "                    i += 1\n",
    "                res += str(count)+s[i]\n",
    "                i+=1\n",
    "            return res\n",
    "        \n",
    "        res = '1'\n",
    "        for i in range(n-1):\n",
    "            res = next_num(res)\n",
    "        return res"
   ]
  },
  {
   "cell_type": "markdown",
   "metadata": {},
   "source": [
    "# 39.组合综合\n",
    "给定一个无重复元素的数组 candidates 和一个目标数 target ，找出 candidates 中所有可以使数字和为 target 的组合。   \n",
    "\n",
    "candidates 中的数字可以无限制重复被选取。   \n",
    "\n",
    "说明：   \n",
    "- 所有数字（包括 target）都是正整数。  \n",
    "- 解集不能包含重复的组合。    \n",
    "\n",
    "示例 1:   \n",
    "```\n",
    "输入: candidates = [2,3,6,7], target = 7,   \n",
    "所求解集为:   \n",
    "[   \n",
    "  [7],   \n",
    "  [2,2,3]   \n",
    "]   \n",
    "```     \n",
    "示例 2:   \n",
    "```\n",
    "输入: candidates = [2,3,5], target = 8,   \n",
    "所求解集为:   \n",
    "[   \n",
    "  [2,2,2,2],   \n",
    "  [2,3,3],   \n",
    "  [3,5]   \n",
    "]   \n",
    "```\n",
    "来源：力扣（LeetCode）   \n",
    "链接：https://leetcode-cn.com/problems/combination-sum    \n",
    "著作权归领扣网络所有。商业转载请联系官方授权，非商业转载请注明出处。    "
   ]
  },
  {
   "cell_type": "code",
   "execution_count": 229,
   "metadata": {},
   "outputs": [],
   "source": [
    "class Solution_39:\n",
    "    # 回溯 + 剪枝\n",
    "    def combinationSum(self, candidates: List[int], target: int) -> List[List[int]]:\n",
    "        # 排序\n",
    "        candidates.sort()\n",
    "        end = len(candidates)\n",
    "        \n",
    "        res,path = [],[]\n",
    "        self.dfs(candidates,0,end,target,path,res)\n",
    "        return res\n",
    "    \n",
    "    def dfs(self,candidates,begin,end,target,path,res):\n",
    "        if target==0:\n",
    "            res.append(path.copy())\n",
    "        \n",
    "        for i in range(begin,end):\n",
    "            residual = target-candidates[i]\n",
    "            if residual<0:\n",
    "                break\n",
    "            path.append(candidates[i])\n",
    "            self.dfs(candidates,i,end,residual,path,res)\n",
    "            path.pop(-1)\n",
    "        "
   ]
  },
  {
   "cell_type": "markdown",
   "metadata": {},
   "source": [
    "## 题解\n",
    "![](./fig/leetcode_39.png)"
   ]
  },
  {
   "cell_type": "markdown",
   "metadata": {},
   "source": [
    "# 40. 组合总和II\n",
    "给定一个数组 candidates 和一个目标数 target ，找出 candidates 中所有可以使数字和为 target 的组合。  \n",
    "\n",
    "candidates 中的每个数字在每个组合中只能使用一次。   \n",
    "\n",
    "说明：   \n",
    "\n",
    "- 所有数字（包括目标数）都是正整数。   \n",
    "- 解集不能包含重复的组合。    \n",
    "\n",
    "示例 1:   \n",
    "```\n",
    "输入: candidates = [10,1,2,7,6,1,5], target = 8,   \n",
    "所求解集为:   \n",
    "[   \n",
    "  [1, 7],   \n",
    "  [1, 2, 5],   \n",
    "  [2, 6],   \n",
    "  [1, 1, 6]   \n",
    "]   \n",
    "```\n",
    "示例 2:   \n",
    "```\n",
    "输入: candidates = [2,5,2,1,2], target = 5,   \n",
    "所求解集为:   \n",
    "[   \n",
    "  [1,2,2],   \n",
    "  [5]   \n",
    "]   \n",
    "```\n",
    "来源：力扣（LeetCode）   \n",
    "链接：https://leetcode-cn.com/problems/combination-sum-ii   \n",
    "著作权归领扣网络所有。商业转载请联系官方授权，非商业转载请注明出处。   "
   ]
  },
  {
   "cell_type": "code",
   "execution_count": 195,
   "metadata": {},
   "outputs": [],
   "source": [
    "class Solution_40:\n",
    "    def combinationSum2(self, candidates: List[int], target: int) -> List[List[int]]:\n",
    "        # 排序\n",
    "        candidates.sort()\n",
    "        end = len(candidates)\n",
    "        \n",
    "        res,path = [],[]\n",
    "        self.dfs(candidates,0,end,target,path,res)\n",
    "        return res\n",
    "    \n",
    "    def dfs(self,candidates,begin,end,target,path,res):\n",
    "        if target==0:\n",
    "            res.append(path.copy())\n",
    "        \n",
    "        for i in range(begin,end):\n",
    "            residual = target-candidates[i]\n",
    "            if residual<0:\n",
    "                break\n",
    "            if i>begin and candidates[i-1]==candidates[i]:\n",
    "                continue\n",
    "            path.append(candidates[i])\n",
    "            self.dfs(candidates,i+1,end,residual,path,res)\n",
    "            path.pop(-1)"
   ]
  },
  {
   "cell_type": "markdown",
   "metadata": {},
   "source": [
    "## 题解\n",
    "与第39题相似，边界条件和剪枝的条件不一样\n",
    "![](./fig/leetcode40.png)"
   ]
  },
  {
   "cell_type": "markdown",
   "metadata": {},
   "source": [
    "# 41. 缺失的第一个正数\n",
    "给定一个未排序的整数数组，找出其中没有出现的最小的正整数。    \n",
    " \n",
    "示例 1:    \n",
    "```\n",
    "输入: [1,2,0]   \n",
    "输出: 3    \n",
    "```\n",
    "示例 2:    \n",
    "```\n",
    "输入: [3,4,-1,1]    \n",
    "输出: 2    \n",
    "```\n",
    "示例 3:    \n",
    "```\n",
    "输入: [7,8,9,11,12]    \n",
    "输出: 1    \n",
    "```\n",
    "说明:    \n",
    "\n",
    "你的算法的时间复杂度应为O(n)，并且只能使用常数级别的空间。    \n",
    "\n",
    "来源：力扣（LeetCode）    \n",
    "链接：https://leetcode-cn.com/problems/first-missing-positive     \n",
    "著作权归领扣网络所有。商业转载请联系官方授权，非商业转载请注明出处。     "
   ]
  },
  {
   "cell_type": "code",
   "execution_count": 197,
   "metadata": {},
   "outputs": [],
   "source": [
    "class Solution_41:\n",
    "    def firstMissingPositive(self, nums: List[int]) -> int:\n",
    "        n = len(nums)\n",
    "        \n",
    "        for i in range(n):\n",
    "            while 1<=nums[i]<=n and nums[nums[i]-1] != nums[i]:\n",
    "                nums[nums[i]-1],nums[i] = nums[i],nums[nums[i]-1]\n",
    "        \n",
    "        i = 0 \n",
    "        while i<n and i+1 == nums[i]:\n",
    "            i += 1\n",
    "        return i+1"
   ]
  },
  {
   "cell_type": "code",
   "execution_count": 200,
   "metadata": {},
   "outputs": [],
   "source": [
    "class Solution_41_1:\n",
    "    def firstMissingPositive(self, nums: List[int]) -> int:\n",
    "        n = len(nums)\n",
    "        \n",
    "        if 1 not in nums:\n",
    "            return 1\n",
    "        \n",
    "        if n==1:\n",
    "            return 2\n",
    "        \n",
    "        for i in range(n):\n",
    "            if nums[i]<=0 or nums[i]>n:\n",
    "                nums[i] = 1\n",
    "        \n",
    "        for i in range(n ):\n",
    "            a = abs(nums[i])\n",
    "            if a==n:\n",
    "                nums[0] = -abs(nums[0])\n",
    "            else:\n",
    "                nums[a] = -abs(nums[a])\n",
    "            \n",
    "        for i in range(1,n):\n",
    "            if nums[i]>0:\n",
    "                return i\n",
    "            \n",
    "        if nums[0]>0:\n",
    "            return n\n",
    "        return n+1"
   ]
  },
  {
   "cell_type": "markdown",
   "metadata": {},
   "source": [
    "# 42. 接雨水\n",
    "给定 n 个非负整数表示每个宽度为 1 的柱子的高度图，计算按此排列的柱子，下雨之后能接多少雨水。   \n",
    "\n",
    "![](./fig/rainwatertrap.png)   \n",
    "\n",
    "上面是由数组 [0,1,0,2,1,0,1,3,2,1,2,1] 表示的高度图，在这种情况下，可以接 6 个单位的雨水（蓝色部分表示雨水）。   \n",
    "\n",
    "示例:   \n",
    "```\n",
    "输入: [0,1,0,2,1,0,1,3,2,1,2,1]   \n",
    "输出: 6   \n",
    "```\n",
    "来源：力扣（LeetCode）   \n",
    "链接：https://leetcode-cn.com/problems/trapping-rain-water   \n",
    "著作权归领扣网络所有。商业转载请联系官方授权，非商业转载请注明出处。   "
   ]
  },
  {
   "cell_type": "code",
   "execution_count": 201,
   "metadata": {},
   "outputs": [],
   "source": [
    "# 按列计算，暴力法\n",
    "class Solution42_1:\n",
    "    def trap(self, height: List[int]) -> int:\n",
    "        n = len(height)\n",
    "        \n",
    "        res = 0\n",
    "        \n",
    "        for i in range(1,n-1):\n",
    "            \n",
    "            # 找左边最大\n",
    "            left_max = height[0]\n",
    "            for l in range(i):\n",
    "                if left_max < height[l]:\n",
    "                    left_max = height[l]\n",
    "            \n",
    "            right_max = height[i+1]\n",
    "            for r in range(i+1,n):\n",
    "                if right_max < height[r]:\n",
    "                    right_max = height[r]\n",
    "            \n",
    "            max_min = min(left_max,right_max)\n",
    "            if max_min > height[i]:\n",
    "                res += (max_min - height[i])\n",
    "            \n",
    "        return res"
   ]
  },
  {
   "cell_type": "code",
   "execution_count": 203,
   "metadata": {},
   "outputs": [],
   "source": [
    "class Solution42_2:\n",
    "    # dp\n",
    "    def trap(self, height: List[int]) -> int:\n",
    "        n = len(height)\n",
    "        \n",
    "        res = 0\n",
    "        \n",
    "        left_max = [0]*n\n",
    "        right_max = [0]*n\n",
    "        # 找出i的左边最大\n",
    "        for i in range(1,n):\n",
    "            left_max[i] = max(left_max[i-1],height[i-1])\n",
    "        \n",
    "        # 找出i的右边最大\n",
    "        for i in range(n-2,0,-1):\n",
    "            right_max[i] = max(right_max[i+1],height[i+1])\n",
    "        \n",
    "        # 计算水量\n",
    "        for i in range(1,n-1):\n",
    "            max_min = min(left_max[i],right_max[i])\n",
    "            if max_min > height[i]:\n",
    "                res += (max_min - height[i])\n",
    "        return res"
   ]
  },
  {
   "cell_type": "code",
   "execution_count": null,
   "metadata": {},
   "outputs": [],
   "source": [
    "class Solution42_3:\n",
    "    # 双指针，一次遍历\n",
    "    def trap(self, height: List[int]) -> int:\n",
    "        n = len(height)\n",
    "        \n",
    "        res = 0\n",
    "        \n",
    "        max_left,max_right = 0,0\n",
    "        # 左右指针\n",
    "        left,right = 1,n-2\n",
    "        for i in range(1,n-1):\n",
    "            if height[left-1] < height[right+1]:\n",
    "                max_left = max(max_left,height[left-1])\n",
    "                if max_left > height[left]:\n",
    "                    res += (max_left - height[left])\n",
    "                left += 1\n",
    "            else:\n",
    "                max_right = max(max_right,height[right+1])\n",
    "                if max_right > height[right]:\n",
    "                    res += (max_right - height[right])\n",
    "                right -= 1\n",
    "        \n",
    "        return res"
   ]
  },
  {
   "cell_type": "markdown",
   "metadata": {},
   "source": [
    "![一次遍历](./fig/trap_double_pointer.jpg)"
   ]
  },
  {
   "cell_type": "code",
   "execution_count": 219,
   "metadata": {},
   "outputs": [],
   "source": [
    "class Solution:\n",
    "    # 栈\n",
    "    def trap(self, height: List[int]) -> int:\n",
    "        n = len(height)\n",
    "        \n",
    "        res = 0\n",
    "        \n",
    "        stack = []\n",
    "        cur = 0 \n",
    "        for i in range(n):\n",
    "            while stack and height[i] > height[stack[-1]]:\n",
    "                print(stack,i)\n",
    "                tmp = stack.pop(-1)\n",
    "                if not stack: break\n",
    "                dis = i - stack[-1] -1 \n",
    "                Min = min(height[i],height[stack[-1]])\n",
    "                res += (Min-height[tmp])*dis\n",
    "                print((Min-height[tmp])*dis)\n",
    "            stack.append(i)\n",
    "        return res"
   ]
  },
  {
   "cell_type": "markdown",
   "metadata": {},
   "source": [
    "![](./fig/leetcode_42_stack.png)"
   ]
  },
  {
   "cell_type": "code",
   "execution_count": 221,
   "metadata": {},
   "outputs": [
    {
     "name": "stdout",
     "output_type": "stream",
     "text": [
      "[0, 1, 2, 3] 4\n",
      "1\n",
      "[0, 1, 2, 4] 5\n",
      "0\n",
      "[0, 1, 2] 5\n",
      "3\n",
      "[0, 1, 5] 6\n",
      "0\n",
      "[0, 1] 6\n",
      "5\n"
     ]
    },
    {
     "data": {
      "text/plain": [
       "9"
      ]
     },
     "execution_count": 221,
     "metadata": {},
     "output_type": "execute_result"
    }
   ],
   "source": [
    "h = [3,2,1,0,1,2,3]\n",
    "s = Solution()\n",
    "s.trap(h)"
   ]
  },
  {
   "cell_type": "markdown",
   "metadata": {},
   "source": [
    "# 42.字符串相乘\n",
    "给定两个以字符串形式表示的非负整数 num1 和 num2，返回 num1 和 num2 的乘积，它们的乘积也表示为字符串形式。      \n",
    "示例 1:     \n",
    "```\n",
    "输入: num1 = \"2\", num2 = \"3\"    \n",
    "输出: \"6\"   \n",
    "```   \n",
    "示例 2:   \n",
    "```\n",
    "输入: num1 = \"123\", num2 = \"456\"   \n",
    "输出: \"56088\"   \n",
    "```\n",
    "说明：   \n",
    "   \n",
    "num1 和 num2 的长度小于110。   \n",
    "num1 和 num2 只包含数字 0-9。   \n",
    "num1 和 num2 均不以零开头，除非是数字 0 本身。   \n",
    "**不能使用任何标准库的大数类型（比如 BigInteger）或直接将输入转换为整数来处理。**   \n",
    "\n",
    "来源：力扣（LeetCode）   \n",
    "链接：https://leetcode-cn.com/problems/multiply-strings   \n",
    "著作权归领扣网络所有。商业转载请联系官方授权，非商业转载请注明出处。   "
   ]
  },
  {
   "cell_type": "code",
   "execution_count": 228,
   "metadata": {},
   "outputs": [],
   "source": [
    "class Solution42:\n",
    "    def multiply(self, num1: str, num2: str) -> str:\n",
    "        if num1 == '0' or num2 == '0':\n",
    "            return '0'\n",
    "        \n",
    "        l1,l2 = len(num1),len(num2)\n",
    "        if l1 > l2:\n",
    "            l1,l2 = l2,l1\n",
    "            num1,num2 = num2,num1\n",
    "        \n",
    "        res = '0'\n",
    "        for i in range(l2):\n",
    "            tmp = self.str_multiply(num1,int(num2[-(i+1)])) + '0'*i\n",
    "            res = self.str_plus(res,tmp)\n",
    "        \n",
    "        return res\n",
    "    \n",
    "    def str_multiply(self,s1,n):\n",
    "        if n==0:\n",
    "            return '0'\n",
    "        l1 = len(s1)\n",
    "        \n",
    "        p = 0\n",
    "        res = []\n",
    "        for i in range(l1):\n",
    "            tmp = int(s1[-(i+1)]) * n + p\n",
    "            p = tmp // 10\n",
    "            res.append(tmp % 10)\n",
    "        if p!=0:\n",
    "            res.append(p)\n",
    "        \n",
    "        res = res[::-1]\n",
    "        return ''.join(str(x) for x in res)\n",
    "    \n",
    "    def str_plus(self,s1,s2):\n",
    "        l1,l2 = len(s1),len(s2)\n",
    "        \n",
    "        if l1>l2:\n",
    "            l1,l2 = l2,l1\n",
    "            s1,s2 = s2,s1\n",
    "        \n",
    "        p = 0\n",
    "        res = []\n",
    "        for i in range(l1):\n",
    "            tmp = int(s1[-(i+1)]) + int(s2[-(i+1)]) + p\n",
    "            p = tmp // 10\n",
    "            res.append(tmp % 10)\n",
    "        \n",
    "        for j in range(l2-l1):\n",
    "            tmp = int(s2[-(l1+j+1)]) + p\n",
    "            p = tmp // 10\n",
    "            res.append(tmp % 10)\n",
    "        \n",
    "        if p!=0:\n",
    "            res.append(p)\n",
    "            \n",
    "        res = res[::-1]\n",
    "        return ''.join(str(x) for x in res)\n",
    "            "
   ]
  },
  {
   "cell_type": "markdown",
   "metadata": {},
   "source": [
    "# 44. 通配符匹配   \n",
    "给定一个字符串 (s) 和一个字符模式 (p) ，实现一个支持 '?' 和 '*' 的通配符匹配。    \n",
    "\n",
    "'?' 可以匹配任何单个字符。     \n",
    "'*' 可以匹配任意字符串（包括空字符串）。   \n",
    "两个字符串完全匹配才算匹配成功。   \n",
    "\n",
    "说明:   \n",
    "```\n",
    "s 可能为空，且只包含从 a-z 的小写字母。   \n",
    "p 可能为空，且只包含从 a-z 的小写字母，以及字符 ? 和 *。   \n",
    "```\n",
    "示例 1:   \n",
    "```\n",
    "输入:   \n",
    "s = \"aa\"\n",
    "p = \"a\"   \n",
    "输出: false   \n",
    "解释: \"a\" 无法匹配 \"aa\" 整个字符串。   \n",
    "```\n",
    "示例 2:   \n",
    "```\n",
    "输入:   \n",
    "s = \"aa\"   \n",
    "p = \"*\"   \n",
    "输出: true   \n",
    "解释: '*' 可以匹配任意字符串。   \n",
    "```\n",
    "示例 3:   \n",
    "```\n",
    "输入:   \n",
    "s = \"cb\"   \n",
    "p = \"?a\"   \n",
    "输出: false   \n",
    "解释: '?' 可以匹配 'c', 但第二个 'a' 无法匹配 'b'。   \n",
    "```\n",
    "示例 4:   \n",
    "``` \n",
    "输入:   \n",
    "s = \"adceb\"   \n",
    "p = \"*a*b\"\n",
    "输出: true   \n",
    "解释: 第一个 '*' 可以匹配空字符串, 第二个 '*' 可以匹配字符串 \"dce\".    \n",
    "```\n",
    "示例 5:    \n",
    "```\n",
    "输入:    \n",
    "s = \"acdcb\"    \n",
    "p = \"a*c?b\"    \n",
    "输入: false    \n",
    "```\n",
    "来源：力扣（LeetCode）   \n",
    "链接：https://leetcode-cn.com/problems/wildcard-matching   \n",
    "著作权归领扣网络所有。商业转载请联系官方授权，非商业转载请注明出处。   "
   ]
  },
  {
   "cell_type": "code",
   "execution_count": 1,
   "metadata": {},
   "outputs": [],
   "source": [
    "class Solution_44:\n",
    "    # dp\n",
    "    def isMatch(self, s: str, p: str) -> bool:\n",
    "        sl = len(s)\n",
    "        pl = len(p)\n",
    "        # create dp array\n",
    "        dp = [[0]*(pl+1) for _ in range(sl+1)]\n",
    "        # init dp array\n",
    "        dp[0][0] = 1\n",
    "        # init dp array column\n",
    "        for i in range(1,pl+1):\n",
    "            if p[i-1]=='*':\n",
    "                dp[0][i] = dp[0][i-1] \n",
    "        # init dp array row\n",
    "        for j in range(1,sl+1):\n",
    "            dp[j][0] = 0\n",
    "        \n",
    "        # update the dp array\n",
    "        for i in range(1,sl+1):\n",
    "            for j in range(1,pl+1):\n",
    "                if s[i-1] == p[j-1] or p[j-1]=='?':\n",
    "                    dp[i][j] = dp[i-1][j-1]\n",
    "                elif p[j-1]=='*':\n",
    "                    dp[i][j]= (dp[i][j-1] or dp[i-1][j])\n",
    "        \n",
    "        return dp[sl][pl]==1"
   ]
  },
  {
   "cell_type": "markdown",
   "metadata": {},
   "source": [
    "## 题解\n",
    "### 动态规划\n",
    "1. 状态   \n",
    "f[i][j]表示s1的前i个字符，和s2的前j个字符，能否匹配   \n",
    "2. 转移方程   \n",
    "如果s1的第 i 个字符和s2的第 j 个字符相同，或者s2的第 j 个字符为 “.”   \n",
    "f[i][j] = f[i - 1][j - 1]   \n",
    "如果s2的第 j 个字符为 *   \n",
    "若s2的第 j 个字符匹配空串, f[i][j] = f[i][j - 1]   \n",
    "若s2的第 j 个字符匹配s1的第 i 个字符, f[i][j] = f[i - 1][j]   \n",
    "这里注意不是 f[i - 1][j - 1]， 举个例子就明白了 (abc, a*) f[3][2] = f[2][2]   \n",
    "3. 初始化   \n",
    "f[0][i] = f[0][i - 1] && s2[i] == *   \n",
    "即s1的前0个字符和s2的前i个字符能否匹配   \n",
    "4. 结果    \n",
    "f[m][n]   \n",
    "\n",
    "作者：a380922457   \n",
    "链接：https://leetcode-cn.com/problems/wildcard-matching/solution/dong-tai-gui-hua-si-yao-su-by-a380922457-4/   \n",
    "来源：力扣（LeetCode）     \n",
    "著作权归作者所有。商业转载请联系作者获得授权，非商业转载请注明出处。   "
   ]
  },
  {
   "cell_type": "code",
   "execution_count": null,
   "metadata": {},
   "outputs": [],
   "source": []
  }
 ],
 "metadata": {
  "kernelspec": {
   "display_name": "Python 3",
   "language": "python",
   "name": "python3"
  },
  "language_info": {
   "codemirror_mode": {
    "name": "ipython",
    "version": 3
   },
   "file_extension": ".py",
   "mimetype": "text/x-python",
   "name": "python",
   "nbconvert_exporter": "python",
   "pygments_lexer": "ipython3",
   "version": "3.7.3"
  }
 },
 "nbformat": 4,
 "nbformat_minor": 2
}
