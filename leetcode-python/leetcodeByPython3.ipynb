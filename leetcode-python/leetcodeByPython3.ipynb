{
 "cells": [
  {
   "cell_type": "markdown",
   "metadata": {},
   "source": [
    "# 15.三数之和"
   ]
  },
  {
   "cell_type": "markdown",
   "metadata": {},
   "source": [
    "给定一个包含 n 个整数的数组 nums，判断 nums 中是否存在三个元素 a，b，c ，使得 a + b + c = 0 ？找出所有满足条件且不重复的三元组。\n",
    "注意：答案中不可以包含重复的三元组。   \n",
    "\n",
    ">例如, 给定数组 nums = [-1, 0, 1, 2, -1, -4]，\n",
    ">\n",
    ">满足要求的三元组集合为：   \n",
    ">[   \n",
    ">   [-1, 0, 1],   \n",
    ">   [-1, -1, 2]   \n",
    ">]   \n",
    "给定一个包含 n 个整数的数组 nums，判断 nums 中是否存在三个元素 a，b，c ，使得 a + b + c = 0 ？找出所有满足条件且不重复的三元组。\n",
    "\n",
    "来源：力扣（LeetCode）   \n",
    "链接：https://leetcode-cn.com/problems/3sum   "
   ]
  },
  {
   "cell_type": "markdown",
   "metadata": {},
   "source": []
  },
  {
   "cell_type": "code",
   "execution_count": 1,
   "metadata": {},
   "outputs": [],
   "source": [
    "from typing import List"
   ]
  },
  {
   "cell_type": "code",
   "execution_count": 2,
   "metadata": {},
   "outputs": [],
   "source": [
    "# 超时\n",
    "class Solution1:\n",
    "    def threeSum(self, nums: List[int]) -> List[List[int]]:\n",
    "        arr_len = len(nums)\n",
    "        \n",
    "        two_sum = []\n",
    "        res = []\n",
    "        index = []\n",
    "        for i in range(arr_len-1):\n",
    "            for j in range(i,arr_len):\n",
    "                if i==j:\n",
    "                    continue\n",
    "                two_sum.append((i,j,(nums[i]+nums[j])))\n",
    "                \n",
    "        for k in range(arr_len):\n",
    "            for p in range(len(two_sum)):\n",
    "                if (nums[k]+two_sum[p][2]==0) and k!=two_sum[p][0] and k!=two_sum[p][1]:\n",
    "                    l = sorted([nums[k],nums[two_sum[p][0]],nums[two_sum[p][1]]])\n",
    "                    if l not in res:\n",
    "                        res.append(l)\n",
    "                    \n",
    "        return res"
   ]
  },
  {
   "cell_type": "code",
   "execution_count": 13,
   "metadata": {},
   "outputs": [],
   "source": [
    "# 排序+双指针\n",
    "class Solution2:\n",
    "    def threeSum(self, nums: List[int]) -> List[List[int]]:\n",
    "        sorted_nums = sorted(nums)\n",
    "        arr_len = len(nums)\n",
    "        i,j,k= 1,arr_len-1,0\n",
    "        \n",
    "        res = []\n",
    "        while k<(arr_len-2):\n",
    "            if sorted_nums[k] >0:\n",
    "                break\n",
    "            if k>0 and sorted_nums[k-1] == sorted_nums[k]:\n",
    "                k+=1\n",
    "                i=k+1\n",
    "                j=arr_len-1\n",
    "                continue\n",
    "                \n",
    "            while i<j:\n",
    "                s = sorted_nums[k] + sorted_nums[i] + sorted_nums[j]\n",
    "                if s==0:\n",
    "                    res.append([sorted_nums[k],sorted_nums[i],sorted_nums[j]])\n",
    "                    i += 1\n",
    "                    j -= 1\n",
    "                    while i<j and sorted_nums[i]==sorted_nums[i-1]: i+=1\n",
    "                    while i<j and sorted_nums[j]==sorted_nums[j+1]: j-=1\n",
    "                elif s<0:\n",
    "                    i += 1\n",
    "                    \n",
    "                else: \n",
    "                    j -= 1\n",
    "                    \n",
    "            k+=1\n",
    "            i = k+1\n",
    "            j = arr_len-1\n",
    "        return res"
   ]
  },
  {
   "cell_type": "code",
   "execution_count": 14,
   "metadata": {},
   "outputs": [],
   "source": [
    "s2 = Solution2()"
   ]
  },
  {
   "cell_type": "code",
   "execution_count": 15,
   "metadata": {},
   "outputs": [],
   "source": [
    "nums = [-1,0,1,2,-1,-4]"
   ]
  },
  {
   "cell_type": "code",
   "execution_count": 16,
   "metadata": {},
   "outputs": [
    {
     "data": {
      "text/plain": [
       "[[-1, -1, 2], [-1, 0, 1]]"
      ]
     },
     "execution_count": 16,
     "metadata": {},
     "output_type": "execute_result"
    }
   ],
   "source": [
    "s2.threeSum(nums)"
   ]
  },
  {
   "cell_type": "markdown",
   "metadata": {},
   "source": [
    "题解：\n",
    "双指针法铺垫： 先将给定 nums 排序，复杂度为 O(NlogN)O(NlogN)。   \n",
    "双指针法思路： 固定 33 个指针中最左（最小）数字的指针 k，双指针 i，j 分设在数组索引 (k, len(nums))(k,len(nums)) 两端，通过双指针交替向中间移动，记录对于每个固定指针 k 的所有满足 nums[k] + nums[i] + nums[j] == 0 的 i,j 组合：   \n",
    "当 nums[k] > 0 时直接break跳出：因为 nums[j] >= nums[i] >= nums[k] > 0，即 33 个数字都大于 00 ，在此固定指针 k 之后不可能再找到结果了。    \n",
    "当 k > 0且nums[k] == nums[k - 1]时即跳过此元素nums[k]：因为已经将 nums[k - 1] 的所有组合加入到结果中，本次双指针搜索只会得到重复组合。    \n",
    "i，j 分设在数组索引 (k, len(nums))(k,len(nums)) 两端，当i < j时循环计算s = nums[k] + nums[i] + nums[j]，并按照以下规则执行双指针移动：    \n",
    "当s < 0时，i += 1并跳过所有重复的nums[i]；   \n",
    "当s > 0时，j -= 1并跳过所有重复的nums[j]；  \n",
    "当s == 0时，记录组合[k, i, j]至res，执行i += 1和j -= 1并跳过所有重复的nums[i]和nums[j]，防止记录到重复组合。   \n",
    "复杂度分析：   \n",
    "时间复杂度 O(N^2)O(N……2)：其中固定指针k循环复杂度 O(N)O(N)，双指针 i，j 复杂度 O(N)O(N)。   \n",
    "空间复杂度 O(1)O(1)：指针使用常数大小的额外空间。   \n",
    "\n",
    "作者：jyd   \n",
    "链接：https://leetcode-cn.com/problems/3sum/solution/3sumpai-xu-shuang-zhi-zhen-yi-dong-by-jyd/   \n",
    "来源：力扣（LeetCode）   "
   ]
  },
  {
   "cell_type": "code",
   "execution_count": null,
   "metadata": {},
   "outputs": [],
   "source": []
  }
 ],
 "metadata": {
  "kernelspec": {
   "display_name": "Python 3",
   "language": "python",
   "name": "python3"
  },
  "language_info": {
   "codemirror_mode": {
    "name": "ipython",
    "version": 3
   },
   "file_extension": ".py",
   "mimetype": "text/x-python",
   "name": "python",
   "nbconvert_exporter": "python",
   "pygments_lexer": "ipython3",
   "version": "3.7.3"
  }
 },
 "nbformat": 4,
 "nbformat_minor": 2
}
