{
 "cells": [
  {
   "cell_type": "markdown",
   "metadata": {},
   "source": [
    "# 15.三数之和"
   ]
  },
  {
   "cell_type": "markdown",
   "metadata": {},
   "source": [
    "给定一个包含 n 个整数的数组 nums，判断 nums 中是否存在三个元素 a，b，c ，使得 a + b + c = 0 ？找出所有满足条件且不重复的三元组。\n",
    "注意：答案中不可以包含重复的三元组。   \n",
    "\n",
    ">例如, 给定数组 nums = [-1, 0, 1, 2, -1, -4]，\n",
    ">\n",
    ">满足要求的三元组集合为：   \n",
    ">[   \n",
    ">   [-1, 0, 1],   \n",
    ">   [-1, -1, 2]   \n",
    ">]   \n",
    "给定一个包含 n 个整数的数组 nums，判断 nums 中是否存在三个元素 a，b，c ，使得 a + b + c = 0 ？找出所有满足条件且不重复的三元组。\n",
    "\n",
    "来源：力扣（LeetCode）   \n",
    "链接：https://leetcode-cn.com/problems/3sum   "
   ]
  },
  {
   "cell_type": "markdown",
   "metadata": {},
   "source": []
  },
  {
   "cell_type": "code",
   "execution_count": 3,
   "metadata": {},
   "outputs": [],
   "source": [
    "from typing import List"
   ]
  },
  {
   "cell_type": "code",
   "execution_count": 2,
   "metadata": {},
   "outputs": [],
   "source": [
    "# 超时\n",
    "class Solution1:\n",
    "    def threeSum(self, nums: List[int]) -> List[List[int]]:\n",
    "        arr_len = len(nums)\n",
    "        \n",
    "        two_sum = []\n",
    "        res = []\n",
    "        index = []\n",
    "        for i in range(arr_len-1):\n",
    "            for j in range(i,arr_len):\n",
    "                if i==j:\n",
    "                    continue\n",
    "                two_sum.append((i,j,(nums[i]+nums[j])))\n",
    "                \n",
    "        for k in range(arr_len):\n",
    "            for p in range(len(two_sum)):\n",
    "                if (nums[k]+two_sum[p][2]==0) and k!=two_sum[p][0] and k!=two_sum[p][1]:\n",
    "                    l = sorted([nums[k],nums[two_sum[p][0]],nums[two_sum[p][1]]])\n",
    "                    if l not in res:\n",
    "                        res.append(l)\n",
    "                    \n",
    "        return res"
   ]
  },
  {
   "cell_type": "code",
   "execution_count": 13,
   "metadata": {},
   "outputs": [],
   "source": [
    "# 排序+双指针\n",
    "class Solution2:\n",
    "    def threeSum(self, nums: List[int]) -> List[List[int]]:\n",
    "        sorted_nums = sorted(nums)\n",
    "        arr_len = len(nums)\n",
    "        i,j,k= 1,arr_len-1,0\n",
    "        \n",
    "        res = []\n",
    "        while k<(arr_len-2):\n",
    "            if sorted_nums[k] >0:\n",
    "                break\n",
    "            if k>0 and sorted_nums[k-1] == sorted_nums[k]:\n",
    "                k+=1\n",
    "                i=k+1\n",
    "                j=arr_len-1\n",
    "                continue\n",
    "                \n",
    "            while i<j:\n",
    "                s = sorted_nums[k] + sorted_nums[i] + sorted_nums[j]\n",
    "                if s==0:\n",
    "                    res.append([sorted_nums[k],sorted_nums[i],sorted_nums[j]])\n",
    "                    i += 1\n",
    "                    j -= 1\n",
    "                    while i<j and sorted_nums[i]==sorted_nums[i-1]: i+=1\n",
    "                    while i<j and sorted_nums[j]==sorted_nums[j+1]: j-=1\n",
    "                elif s<0:\n",
    "                    i += 1\n",
    "                    \n",
    "                else: \n",
    "                    j -= 1\n",
    "                    \n",
    "            k+=1\n",
    "            i = k+1\n",
    "            j = arr_len-1\n",
    "        return res"
   ]
  },
  {
   "cell_type": "code",
   "execution_count": 14,
   "metadata": {},
   "outputs": [],
   "source": [
    "s2 = Solution2()"
   ]
  },
  {
   "cell_type": "code",
   "execution_count": 15,
   "metadata": {},
   "outputs": [],
   "source": [
    "nums = [-1,0,1,2,-1,-4]"
   ]
  },
  {
   "cell_type": "code",
   "execution_count": 16,
   "metadata": {},
   "outputs": [
    {
     "data": {
      "text/plain": [
       "[[-1, -1, 2], [-1, 0, 1]]"
      ]
     },
     "execution_count": 16,
     "metadata": {},
     "output_type": "execute_result"
    }
   ],
   "source": [
    "s2.threeSum(nums)"
   ]
  },
  {
   "cell_type": "markdown",
   "metadata": {},
   "source": [
    "题解：\n",
    "双指针法铺垫： 先将给定 nums 排序，复杂度为 O(NlogN)O(NlogN)。   \n",
    "双指针法思路： 固定 33 个指针中最左（最小）数字的指针 k，双指针 i，j 分设在数组索引 (k, len(nums))(k,len(nums)) 两端，通过双指针交替向中间移动，记录对于每个固定指针 k 的所有满足 nums[k] + nums[i] + nums[j] == 0 的 i,j 组合：   \n",
    "当 nums[k] > 0 时直接break跳出：因为 nums[j] >= nums[i] >= nums[k] > 0，即 33 个数字都大于 00 ，在此固定指针 k 之后不可能再找到结果了。    \n",
    "当 k > 0且nums[k] == nums[k - 1]时即跳过此元素nums[k]：因为已经将 nums[k - 1] 的所有组合加入到结果中，本次双指针搜索只会得到重复组合。    \n",
    "i，j 分设在数组索引 (k, len(nums))(k,len(nums)) 两端，当i < j时循环计算s = nums[k] + nums[i] + nums[j]，并按照以下规则执行双指针移动：    \n",
    "当s < 0时，i += 1并跳过所有重复的nums[i]；   \n",
    "当s > 0时，j -= 1并跳过所有重复的nums[j]；  \n",
    "当s == 0时，记录组合[k, i, j]至res，执行i += 1和j -= 1并跳过所有重复的nums[i]和nums[j]，防止记录到重复组合。   \n",
    "复杂度分析：   \n",
    "时间复杂度 O(N^2)   \n",
    "O(N^2)：其中固定指针k循环复杂度 O(N)O(N)，双指针 i，j 复杂度 O(N)O(N)。   \n",
    "空间复杂度 O(1)   \n",
    "O(1)：指针使用常数大小的额外空间。   \n",
    "\n",
    "作者：jyd   \n",
    "链接：https://leetcode-cn.com/problems/3sum/solution/3sumpai-xu-shuang-zhi-zhen-yi-dong-by-jyd/   \n",
    "来源：力扣（LeetCode）   "
   ]
  },
  {
   "cell_type": "markdown",
   "metadata": {},
   "source": [
    "# 16. 最接近的三数之和"
   ]
  },
  {
   "cell_type": "markdown",
   "metadata": {},
   "source": [
    "给定一个包括 n 个整数的数组 nums 和 一个目标值 target。找出 nums 中的三个整数，使得它们的和与 target 最接近。返回这三个数的和。假定每组输入只存在唯一答案。\n",
    "\n",
    ">例如，给定数组 nums = [-1，2，1，-4], 和 target = 1.\n",
    ">\n",
    ">与 target 最接近的三个数的和为 2. (-1 + 2 + 1 = 2).\n",
    "\n",
    "来源：力扣（LeetCode）\n",
    "链接：https://leetcode-cn.com/problems/3sum-closest"
   ]
  },
  {
   "cell_type": "code",
   "execution_count": 76,
   "metadata": {},
   "outputs": [],
   "source": [
    "# 排序+双指针\n",
    "class Solution:\n",
    "    def threeSumClosest(self, nums: List[int], target: int) -> int:\n",
    "        nums_s = sorted(nums)\n",
    "        arr_len = len(nums_s)\n",
    "        k,i,j = 0,1,arr_len-1\n",
    "        \n",
    "        ans = s = nums_s[k] + nums_s[i] + nums_s[j]\n",
    "        dis =  s - target\n",
    "        res = abs(dis)\n",
    "        while k<arr_len-2:\n",
    "            while i<j:\n",
    "                s = nums_s[k] + nums_s[i] + nums_s[j]\n",
    "                dis = s - target\n",
    "                \n",
    "                if abs(dis) < res:\n",
    "                    res = abs(dis)\n",
    "                    ans = s\n",
    "                    \n",
    "                if dis==0:\n",
    "                    return ans\n",
    "                elif dis>0:\n",
    "                    j -= 1\n",
    "                else:\n",
    "                    i += 1    \n",
    "            k +=1\n",
    "            i = k+1\n",
    "            j = arr_len -1\n",
    "                \n",
    "        return ans"
   ]
  },
  {
   "cell_type": "code",
   "execution_count": 77,
   "metadata": {},
   "outputs": [
    {
     "data": {
      "text/plain": [
       "3"
      ]
     },
     "execution_count": 77,
     "metadata": {},
     "output_type": "execute_result"
    }
   ],
   "source": [
    "nums = [-1,2,1,-4]\n",
    "nums = [0,1,2]\n",
    "target = 3\n",
    "s = Solution()\n",
    "s.threeSumClosest(nums,target)"
   ]
  },
  {
   "cell_type": "markdown",
   "metadata": {},
   "source": [
    "## 解题思路\n",
    "### 标签：排序和双指针\n",
    "- 本题目因为要计算三个数，如果靠暴力枚举的话时间复杂度会到 O(n^3)，需要降低时间复杂度\n",
    "- 首先进行数组排序，时间复杂度 O(nlogn)在数组 nums 中，进行遍历，每遍历一个值利用其下标i，形成一个固定值 nums[i]\n",
    "- 再使用前指针指向 start = i + 1 处，后指针指向 end = nums.length - 1 处，也就是结尾处\n",
    "- 根据 sum = nums[i] + nums[start] + nums[end] 的结果，判断 sum 与目标 target 的距离，如果更近则更新结果 ans\n",
    "- 同时判断 sum 与 target 的大小关系，因为数组有序，如果 sum > target 则 end--，如果 sum < target 则 start++，如果 sum == target 则说明距离为 0 直接返回结果\n",
    "- 整个遍历过程，固定值为 n 次，双指针为 n 次，时间复杂度为 O(n^2)\n",
    "- 总时间复杂度：O(nlogn) + O(n^2) = O(n^2)\n",
    "\n",
    "作者：guanpengchn   \n",
    "链接：https://leetcode-cn.com/problems/3sum-closest/solution/hua-jie-suan-fa-16-zui-jie-jin-de-san-shu-zhi-he-b/   \n",
    "来源：力扣（LeetCode）   \n",
    "著作权归作者所有。商业转载请联系作者获得授权，非商业转载请注明出处。   "
   ]
  },
  {
   "cell_type": "markdown",
   "metadata": {},
   "source": [
    "# 17. 电话号码的字母组合"
   ]
  },
  {
   "cell_type": "markdown",
   "metadata": {},
   "source": [
    "给定一个仅包含数字 2-9 的字符串，返回所有它能表示的字母组合。   \n",
    "给出数字到字母的映射如下（与电话按键相同）。注意 1 不对应任何字母。   \n",
    "![png](./fig/17_telephone_keypad.png)"
   ]
  },
  {
   "cell_type": "code",
   "execution_count": 103,
   "metadata": {},
   "outputs": [],
   "source": [
    "class Solution17:\n",
    "    def letterCombinations(self, digits: str) -> List[str]:\n",
    "        res = []\n",
    "        if len(digits)==0:\n",
    "            return []\n",
    "        self.letterCombinationsHelper('',digits,0,res)\n",
    "        return res\n",
    "    \n",
    "    \n",
    "    def letterCombinationsHelper(self,combination,nums,index,res):\n",
    "        d = {\n",
    "            '2':'abc',\n",
    "            '3':'def',\n",
    "            '4':'ghi',\n",
    "            '5':'jkl',\n",
    "            '6':'mno',\n",
    "            '7':'pqrs',\n",
    "            '8':'tuv',\n",
    "            '9':'wxyz',\n",
    "        }\n",
    "        if index==len(nums):\n",
    "            res.append(combination)\n",
    "            return\n",
    "        for ch in d[nums[index]]:\n",
    "            self.letterCombinationsHelper(combination+ch,nums,index+1,res)\n",
    "        \n",
    "        "
   ]
  },
  {
   "cell_type": "code",
   "execution_count": 106,
   "metadata": {},
   "outputs": [
    {
     "data": {
      "text/plain": [
       "['']"
      ]
     },
     "execution_count": 106,
     "metadata": {},
     "output_type": "execute_result"
    }
   ],
   "source": [
    "s = Solution17()\n",
    "digitals = ''\n",
    "s.letterCombinations(digitals)"
   ]
  },
  {
   "cell_type": "markdown",
   "metadata": {},
   "source": [
    "# 18. 四数之和"
   ]
  },
  {
   "cell_type": "markdown",
   "metadata": {},
   "source": [
    "给定一个包含n个整数的数组nums和一个目标值target，判断nums中是否存在四个元素a，b，c和d，使得a + b + c + d的值与target相等？找出所有满足条件且不重复的四元组。   \n",
    "注意：   \n",
    "答案中不可以包含重复的四元组。  \n",
    "```\n",
    "示例：         \n",
    "给定数组 nums = [1, 0, -1, 0, -2, 2]，和 target = 0。   \n",
    "   \n",
    "满足要求的四元组集合为：   \n",
    "[    \n",
    "  [-1,  0, 0, 1],   \n",
    "  [-2, -1, 1, 2],   \n",
    "  [-2,  0, 0, 2]    \n",
    "]   \n",
    "```\n",
    "来源：力扣（LeetCode）    \n",
    "链接：https://leetcode-cn.com/problems/4sum    \n",
    "著作权归领扣网络所有。商业转载请联系官方授权，非商业转载请注明出处。    "
   ]
  },
  {
   "cell_type": "code",
   "execution_count": 23,
   "metadata": {},
   "outputs": [],
   "source": [
    "# 排序+双指针\n",
    "class Solution18:\n",
    "    def fourSum(self, nums: List[int], target: int) -> List[List[int]]:\n",
    "        s_nums = sorted(nums)\n",
    "        arr_len = len(nums)\n",
    "        \n",
    "        ans = set()\n",
    "        ret = []\n",
    "        for a in range(arr_len-3):\n",
    "            for b in range(a+1,arr_len-2):\n",
    "            \n",
    "                c = b+1\n",
    "                d = arr_len-1\n",
    "                while c<d:\n",
    "                    s = s_nums[a]+s_nums[b]+s_nums[c]+s_nums[d]\n",
    "                    \n",
    "                    if s==target:\n",
    "                        ans.add((s_nums[a],s_nums[b],s_nums[c],s_nums[d]))\n",
    "                        d-=1\n",
    "                        c+=1\n",
    "                    elif s>target:\n",
    "                        d-=1\n",
    "                    else:\n",
    "                        c+=1\n",
    "        for a in ans:\n",
    "            ret.append(list(a))\n",
    "        return ret"
   ]
  },
  {
   "cell_type": "code",
   "execution_count": 24,
   "metadata": {},
   "outputs": [
    {
     "name": "stdout",
     "output_type": "stream",
     "text": [
      "2 5\n",
      "3 5\n",
      "4 5\n",
      "3 5\n",
      "4 5\n",
      "3 5\n",
      "3 4\n",
      "4 5\n",
      "4 5\n"
     ]
    },
    {
     "data": {
      "text/plain": [
       "[[-2, -1, 1, 2], [-2, 0, 0, 2], [-1, 0, 0, 1]]"
      ]
     },
     "execution_count": 24,
     "metadata": {},
     "output_type": "execute_result"
    }
   ],
   "source": [
    "nums = [1, 0, -1, 0, -2, 2]\n",
    "s = Solution18()\n",
    "s.fourSum(nums,0)"
   ]
  },
  {
   "cell_type": "markdown",
   "metadata": {},
   "source": [
    "# 19.删除链表的倒数第N个节点"
   ]
  },
  {
   "cell_type": "markdown",
   "metadata": {},
   "source": [
    "给定一个链表，删除链表的倒数第 n 个节点，并且返回链表的头结点。   \n",
    "示例：    \n",
    "```\n",
    "给定一个链表: 1->2->3->4->5, 和 n = 2.   \n",
    "当删除了倒数第二个节点后，链表变为 1->2->3->5.   \n",
    "说明：      \n",
    "给定的n保证是有效的。    \n",
    "```\n",
    "来源：力扣（LeetCode）\n",
    "链接：https://leetcode-cn.com/problems/remove-nth-node-from-end-of-list\n",
    "著作权归领扣网络所有。商业转载请联系官方授权，非商业转载请注明出处。"
   ]
  },
  {
   "cell_type": "code",
   "execution_count": 78,
   "metadata": {},
   "outputs": [],
   "source": [
    "#Definition for singly-linked list.\n",
    "class ListNode:\n",
    "    def __init__(self, x):\n",
    "        self.val = x\n",
    "        self.next = None\n",
    "\n",
    "class Solution18:\n",
    "    def removeNthFromEnd(self, head: ListNode, n: int) -> ListNode:\n",
    "        pre = ListNode(0)\n",
    "        pre.next = head\n",
    "        start,end = pre,pre\n",
    "        v\n",
    "        while n>0:\n",
    "            end = end.next\n",
    "            n -= 1\n",
    "        \n",
    "        while end.next!=None:\n",
    "            end = end.next\n",
    "            start = start.next\n",
    "        start.next = start.next.next\n",
    "        return pre.next"
   ]
  },
  {
   "cell_type": "code",
   "execution_count": 79,
   "metadata": {},
   "outputs": [],
   "source": [
    "cur = head = ListNode(1)\n",
    "\n",
    "for i in range(2,6):\n",
    "    node =  ListNode(i)\n",
    "    cur.next = node\n",
    "    cur = cur.next \n",
    "def print_link_list(head):\n",
    "    cur = head\n",
    "    while cur!=None:\n",
    "        print(cur.val)\n",
    "        cur = cur.next"
   ]
  },
  {
   "cell_type": "code",
   "execution_count": 80,
   "metadata": {},
   "outputs": [
    {
     "name": "stdout",
     "output_type": "stream",
     "text": [
      "1\n",
      "2\n",
      "3\n",
      "4\n",
      "5\n",
      "1\n",
      "2\n",
      "3\n",
      "5\n"
     ]
    }
   ],
   "source": [
    "print_link_list(head)\n",
    "s = Solution18()\n",
    "head = s.removeNthFromEnd(head,2)\n",
    "print_link_list(head)"
   ]
  },
  {
   "cell_type": "markdown",
   "metadata": {},
   "source": [
    "### 思路\n",
    "- 标签：链表\n",
    "- 整体思路是让前面的指针先移动n步，之后前后指针共同移动直到前面的指针到尾部为止\n",
    "- 首先设立预先指针 pre，预先指针是一个小技巧，在第2题中进行了讲解\n",
    "- 设预先指针 pre 的下一个节点指向 head，设前指针为 start，后指针为 end，二者都等于 pre\n",
    "- start 先向前移动n步   \n",
    "- 之后 start 和 end 共同向前移动，此时二者的距离为 n，当 start 到尾部时，end 的位置恰好为倒数第 n 个节点\n",
    "- 因为要删除该节点，所以要移动到该节点的前一个才能删除，所以循环结束条件为 start.next != null\n",
    "- 删除后返回 pre.next，为什么不直接返回 head 呢，因为 head 有可能是被删掉的点\n",
    "- 时间复杂度：O(n)\n",
    "\n",
    "作者：guanpengchn    \n",
    "链接：https://leetcode-cn.com/problems/remove-nth-node-from-end-of-list/solution/hua-jie-suan-fa-19-shan-chu-lian-biao-de-dao-shu-d/    \n",
    "来源：力扣（LeetCode）    \n",
    "著作权归作者所有。商业转载请联系作者获得授权，非商业转载请注明出处。     "
   ]
  },
  {
   "cell_type": "markdown",
   "metadata": {},
   "source": [
    "# 20.有效括号"
   ]
  },
  {
   "cell_type": "markdown",
   "metadata": {},
   "source": [
    "给定一个只包括 '('，')'，'{'，'}'，'['，']' 的字符串，判断字符串是否有效。   \n",
    "\n",
    "有效字符串需满足：   \n",
    "\n",
    "1. 左括号必须用相同类型的右括号闭合。\n",
    "2. 左括号必须以正确的顺序闭合。\n",
    "3. 注意空字符串可被认为是有效字符串。\n",
    "\n",
    "来源：力扣（LeetCode）   \n",
    "链接：https://leetcode-cn.com/problems/valid-parentheses   \n",
    "著作权归领扣网络所有。商业转载请联系官方授权，非商业转载请注明出处。   "
   ]
  },
  {
   "cell_type": "code",
   "execution_count": 83,
   "metadata": {},
   "outputs": [],
   "source": [
    "# 栈\n",
    "class Solution20:\n",
    "    def isValid(self, s: str) -> bool:\n",
    "        s_in = []\n",
    "        d = {'(':')','{':'}','[':']'}\n",
    "        \n",
    "        if s=='':\n",
    "            return True\n",
    "        if len(s)%2 == 1:\n",
    "            return False\n",
    "        \n",
    "        for ch in s:\n",
    "            if ch =='(' or ch=='[' or ch=='{':\n",
    "                s_in.append(ch)\n",
    "            else:\n",
    "                if len(s_in)!=0 and d[s_in.pop()] != ch:\n",
    "                    return False\n",
    "        return len(s_in)==0"
   ]
  },
  {
   "cell_type": "code",
   "execution_count": 82,
   "metadata": {},
   "outputs": [
    {
     "data": {
      "text/plain": [
       "True"
      ]
     },
     "execution_count": 82,
     "metadata": {},
     "output_type": "execute_result"
    }
   ],
   "source": [
    "s1 = '()'\n",
    "s2 = '()[]{}'\n",
    "s3 = '(]'\n",
    "s20 = Solution20()\n",
    "s20.isValid(s1)"
   ]
  },
  {
   "cell_type": "markdown",
   "metadata": {},
   "source": [
    "# 21. 合并两个有序链表"
   ]
  },
  {
   "cell_type": "markdown",
   "metadata": {},
   "source": [
    "将两个有序链表合并为一个新的有序链表并返回。新链表是通过拼接给定的两个链表的所有节点组成的。    \n",
    "   \n",
    "示例：   \n",
    "   \n",
    "输入：1->2->4, 1->3->4   \n",
    "输出：1->1->2->3->4->4    \n",
    "   \n",
    "来源：力扣（LeetCode）    \n",
    "链接：https://leetcode-cn.com/problems/merge-two-sorted-lists    \n",
    "著作权归领扣网络所有。商业转载请联系官方授权，非商业转载请注明出处。    "
   ]
  },
  {
   "cell_type": "code",
   "execution_count": null,
   "metadata": {},
   "outputs": [],
   "source": [
    "# Definition for singly-linked list.\n",
    "class ListNode:\n",
    "    def __init__(self, x):\n",
    "        self.val = x\n",
    "        self.next = None\n",
    "# 递归\n",
    "class Solution:\n",
    "    def mergeTwoLists(self, l1: ListNode, l2: ListNode) -> ListNode:\n",
    "        if l1==None:\n",
    "            return l2\n",
    "        elif l2==None:\n",
    "            return l1\n",
    "        elif l1.val <=l2.val:\n",
    "            l1.next = self.mergeTwoLists(l1.next,l2)\n",
    "            return l1\n",
    "        else:\n",
    "            l2.next = self.mergeTwoLists(l1,l2.next)\n",
    "            return l2"
   ]
  },
  {
   "cell_type": "code",
   "execution_count": null,
   "metadata": {},
   "outputs": [],
   "source": [
    "# 迭代\n",
    "class Solution21:\n",
    "    def mergeTwoLists(self, l1: ListNode, l2: ListNode) -> ListNode:\n",
    "        pre_node = ListNode(0)\n",
    "        cur = pre_node\n",
    "        while l1!=None or l2!=None:\n",
    "            if l1==None and l2!=None:\n",
    "                cur.next = l2\n",
    "                return pre_node.next\n",
    "            elif l1!=None and l2==None:\n",
    "                cur.next = l1\n",
    "                return pre_node.next\n",
    "            elif l1.val <= l2.val:\n",
    "                cur.next = l1\n",
    "                l1 = l1.next\n",
    "            else:\n",
    "                cur.next = l2\n",
    "                l2 = l2.next\n",
    "            cur = cur.next\n",
    "        return pre_node.next"
   ]
  },
  {
   "cell_type": "markdown",
   "metadata": {},
   "source": [
    "# 22. 括号生成"
   ]
  },
  {
   "cell_type": "markdown",
   "metadata": {},
   "source": [
    "给出 n 代表生成括号的对数，请你写出一个函数，使其能够生成所有可能的并且有效的括号组合。   \n",
    "\n",
    "例如，给出 n = 3，生成结果为：   \n",
    "```\n",
    "[   \n",
    "  \"((()))\",   \n",
    "  \"(()())\",   \n",
    "  \"(())()\",   \n",
    "  \"()(())\",   \n",
    "  \"()()()\"   \n",
    "]   \n",
    "```\n",
    "来源：力扣（LeetCode）   \n",
    "链接：https://leetcode-cn.com/problems/generate-parentheses   \n",
    "著作权归领扣网络所有。商业转载请联系官方授权，非商业转载请注明出处。   "
   ]
  },
  {
   "cell_type": "code",
   "execution_count": 84,
   "metadata": {},
   "outputs": [],
   "source": [
    "# 递归\n",
    "class Solution22:\n",
    "    def generateParenthesis(self, n: int) -> List[str]:\n",
    "        res = []\n",
    "        self.genParenthesisHelper(0,0,n,'',res)\n",
    "        return res\n",
    "    \n",
    "    def genParenthesisHelper(self,left,right,n,s,res):\n",
    "        if left < right:\n",
    "            return\n",
    "        if left==n and right==n:\n",
    "            res.append(s)\n",
    "        if left<n:\n",
    "            self.genParenthesisHelper(left+1,right,n,s+'(',res)\n",
    "        if right<n:\n",
    "            self.genParenthesisHelper(left,right+1,n,s+')',res)\n",
    "        "
   ]
  },
  {
   "cell_type": "code",
   "execution_count": 86,
   "metadata": {},
   "outputs": [
    {
     "data": {
      "text/plain": [
       "['((()))', '(()())', '(())()', '()(())', '()()()']"
      ]
     },
     "execution_count": 86,
     "metadata": {},
     "output_type": "execute_result"
    }
   ],
   "source": [
    "s22 = Solution22()\n",
    "s22.generateParenthesis(3)"
   ]
  },
  {
   "cell_type": "code",
   "execution_count": 93,
   "metadata": {},
   "outputs": [],
   "source": [
    "# 动态规划\n",
    "class Solution22_2:\n",
    "    def generateParenthesis(self, n: int) -> List[str]:\n",
    "        res = []\n",
    "        res.append([''])\n",
    "        res.append(['()'])\n",
    "        for i in range(2,n+1):\n",
    "            l= []\n",
    "            for j in range(0,i):\n",
    "                p1 = [ '('+item+')' for item in res[j]]\n",
    "                p2 = res[i-j-1]\n",
    "                for k in p1:\n",
    "                    for p in p2:\n",
    "                        l.append(k+p)\n",
    "            res.append(l)\n",
    "        return res[n]"
   ]
  },
  {
   "cell_type": "markdown",
   "metadata": {},
   "source": [
    "思路：   \n",
    "当我们清楚所有 i<n 时括号的可能生成排列后，对与 i=n 的情况，我们考虑整个括号排列中最左边的括号。   \n",
    "它一定是一个左括号，那么它可以和它对应的右括号组成一组完整的括号 \"( )\"，我们认为这一组是相比 n-1 增加进来的括号。   \n",
    "\n",
    "那么，剩下 n-1 组括号有可能在哪呢？   \n",
    "\n",
    "【这里是重点，请着重理解】    \n",
    "\n",
    "剩下的括号要么在这一组新增的括号内部，要么在这一组新增括号的外部（右侧）。    \n",
    "\n",
    "既然知道了 i<n 的情况，那我们就可以对所有情况进行遍历：    \n",
    "\n",
    "\"(\" + 【i=p时所有括号的排列组合】 + \")\" + 【i=q时所有括号的排列组合】     \n",
    "\n",
    "其中 p + q = n-1，且 p q 均为非负整数。    \n",
    " \n",
    "事实上，当上述 p 从 0 取到 n-1，q 从 n-1 取到 0 后，所有情况就遍历完了。     \n",
    "\n",
    "注：上述遍历是没有重复情况出现的，即当 (p1,q1)≠(p2,q2) 时，按上述方式取的括号组合一定不同。     \n",
    "\n",
    "作者：yuyu-13    \n",
    "链接：https://leetcode-cn.com/problems/generate-parentheses/solution/zui-jian-dan-yi-dong-de-dong-tai-gui-hua-bu-lun-da/     \n",
    "来源：力扣（LeetCode）    \n",
    "著作权归作者所有。商业转载请联系作者获得授权，非商业转载请注明出处。    "
   ]
  },
  {
   "cell_type": "markdown",
   "metadata": {},
   "source": [
    "# 23. 合并K个排序链表"
   ]
  },
  {
   "cell_type": "markdown",
   "metadata": {},
   "source": [
    "合并 k 个排序链表，返回合并后的排序链表。请分析和描述算法的复杂度。   \n",
    "\n",
    "示例:   \n",
    "\n",
    "输入:   \n",
    "```\n",
    "[   \n",
    "  1->4->5,    \n",
    "  1->3->4,    \n",
    "  2->6    \n",
    "]    \n",
    "输出: 1->1->2->3->4->4->5->6   \n",
    "```\n",
    "来源：力扣（LeetCode）\n",
    "链接：https://leetcode-cn.com/problems/merge-k-sorted-lists\n",
    "著作权归领扣网络所有。商业转载请联系官方授权，非商业转载请注明出处。"
   ]
  },
  {
   "cell_type": "code",
   "execution_count": 96,
   "metadata": {},
   "outputs": [],
   "source": [
    "# Definition for singly-linked list.\n",
    "# 参考21题合并两个有序链表，将列表中的链表两两合并，循环进行，得到最终合并的大有序链表\n",
    "class ListNode:\n",
    "    def __init__(self, x):\n",
    "        self.val = x\n",
    "        self.next = None\n",
    "\n",
    "class Solution23:\n",
    "    def mergeKLists(self, lists: List[ListNode]) -> ListNode:\n",
    "        nums = len(lists)\n",
    "        if nums==0:\n",
    "            return None\n",
    "        pairs = nums // 2\n",
    "        while pairs !=0:\n",
    "            for i in range(pairs):\n",
    "                l1 = lists.pop(0)\n",
    "                l2 = lists.pop(0)\n",
    "                new_l = self.mergeTwoLists(l1,l2)\n",
    "                lists.append(new_l)\n",
    "            pairs = len(lists) // 2\n",
    "        return lists[0]\n",
    "    \n",
    "    def mergeTwoLists(self,l1,l2):\n",
    "        if l1==None:\n",
    "            return l2\n",
    "        elif l2==None:\n",
    "            return l1\n",
    "        elif l1.val<l2.val:\n",
    "            l1.next = self.mergeTwoLists(l1.next,l2)\n",
    "            return l1\n",
    "        else:\n",
    "            l2.next = self.mergeTwoLists(l1,l2.next)\n",
    "            return l2"
   ]
  },
  {
   "cell_type": "markdown",
   "metadata": {},
   "source": [
    "# 22. 两两交换链表中的节点"
   ]
  },
  {
   "cell_type": "markdown",
   "metadata": {},
   "source": [
    "给定一个链表，两两交换其中相邻的节点，并返回交换后的链表。    \n",
    "\n",
    "你不能只是单纯的改变节点内部的值，而是需要实际的进行节点交换。   \n",
    "```\n",
    "示例:   \n",
    "\n",
    "给定 1->2->3->4, 你应该返回 2->1->4->3.   \n",
    "```\n",
    "来源：力扣（LeetCode）   \n",
    "链接：https://leetcode-cn.com/problems/swap-nodes-in-pairs   \n",
    "著作权归领扣网络所有。商业转载请联系官方授权，非商业转载请注明出处。   "
   ]
  },
  {
   "cell_type": "code",
   "execution_count": 98,
   "metadata": {},
   "outputs": [],
   "source": [
    "# Definition for singly-linked list.\n",
    "# 迭代\n",
    "class ListNode:\n",
    "    def __init__(self, x):\n",
    "        self.val = x\n",
    "        self.next = None\n",
    "\n",
    "class Solution24:\n",
    "    def swapPairs(self, head: ListNode) -> ListNode:\n",
    "        helper = ListNode(0)\n",
    "        helper.next = head\n",
    "        temp = helper\n",
    "        while temp.next!=None and temp.next.next!=None:\n",
    "            pre = temp.next\n",
    "            nxt = temp.next.next\n",
    "            pre.next = nxt.next\n",
    "            temp.next = nxt\n",
    "            nxt.next = pre\n",
    "            temp = pre\n",
    "        return helper.next"
   ]
  },
  {
   "cell_type": "code",
   "execution_count": 99,
   "metadata": {},
   "outputs": [],
   "source": [
    "# 递归\n",
    "class Solution24_2:\n",
    "    def swapPairs(self, head: ListNode) -> ListNode:\n",
    "        if head==None or head.next==None:\n",
    "            return head\n",
    "        second = head.next\n",
    "        head.next = self.swapPairs(second.next)\n",
    "        second.next = head\n",
    "        return second"
   ]
  },
  {
   "cell_type": "markdown",
   "metadata": {},
   "source": [
    "# 25. K个一组翻转链表"
   ]
  },
  {
   "cell_type": "markdown",
   "metadata": {},
   "source": [
    "给你一个链表，每 k 个节点一组进行翻转，请你返回翻转后的链表。   \n",
    "\n",
    "k 是一个正整数，它的值小于或等于链表的长度。   \n",
    "\n",
    "如果节点总数不是 k 的整数倍，那么请将最后剩余的节点保持原有顺序。   \n",
    "```\n",
    "示例 :   \n",
    "\n",
    "给定这个链表：1->2->3->4->5   \n",
    "\n",
    "当 k = 2 时，应当返回: 2->1->4->3->5   \n",
    "\n",
    "当 k = 3 时，应当返回: 3->2->1->4->5   \n",
    "```\n",
    "说明 :   \n",
    "\n",
    "你的算法只能使用常数的额外空间。   \n",
    "你不能只是单纯的改变节点内部的值，而是需要实际的进行节点交换。   \n",
    "\n",
    "来源：力扣（LeetCode）   \n",
    "链接：https://leetcode-cn.com/problems/reverse-nodes-in-k-group   \n",
    "著作权归领扣网络所有。商业转载请联系官方授权，非商业转载请注明出处。   "
   ]
  },
  {
   "cell_type": "code",
   "execution_count": 100,
   "metadata": {},
   "outputs": [],
   "source": [
    "# Definition for singly-linked list.\n",
    "# class ListNode:\n",
    "#     def __init__(self, x):\n",
    "#         self.val = x\n",
    "#         self.next = None\n",
    "\n",
    "# 栈实现链表翻转\n",
    "class Solution25:\n",
    "    def reverseKGroup(self, head: ListNode, k: int) -> ListNode:\n",
    "        dummy = ListNode(0)\n",
    "        dummy.next = head\n",
    "        flag = dummy.next\n",
    "        start = dummy\n",
    "        while True:\n",
    "            stack = []\n",
    "            end= flag\n",
    "            count = 0\n",
    "            # 向前探测k个节点\n",
    "            while count<k and flag!=None:\n",
    "                flag = flag.next\n",
    "                count+=1\n",
    "                \n",
    "            if count<k:\n",
    "                break\n",
    "                \n",
    "            # 压栈\n",
    "            while count>0: \n",
    "                stack.append(end)\n",
    "                end = end.next\n",
    "                count -= 1\n",
    "            \n",
    "            # 弹栈\n",
    "            while count<k: \n",
    "                start.next = stack.pop(-1)\n",
    "                start = start.next\n",
    "                count += 1\n",
    "            \n",
    "            start.next = flag\n",
    "        return dummy.next\n",
    "            "
   ]
  },
  {
   "cell_type": "code",
   "execution_count": null,
   "metadata": {},
   "outputs": [],
   "source": [
    "# 尾插法\n",
    "class Solution25_2:\n",
    "    def reverseKGroup(self, head: ListNode, k: int) -> ListNode:\n",
    "        dummy = ListNode(0)\n",
    "        dummy.next = head\n",
    "        tail = dummy\n",
    "        pre = dummy\n",
    "        while True:\n",
    "            count = 0\n",
    "            while count<k and tail.next!=None:\n",
    "                tail = tail.next\n",
    "                count += 1\n",
    "            \n",
    "            if count<k:\n",
    "                break\n",
    "            \n",
    "            # 重置head指针的位置\n",
    "            head = pre.next\n",
    "            # 向tail尾部插入节点\n",
    "            while pre.next!=tail:\n",
    "                # 指定cur指针的位置\n",
    "                cur = pre.next\n",
    "                # 将cur指向的节点卸下来\n",
    "                pre.next = cur.next\n",
    "                # 将卸下来的cur节点插入tail的尾部\n",
    "                cur.next = tail.next\n",
    "                tail.next = cur\n",
    "            # 重置tail和pre指针的位置\n",
    "            tail = head\n",
    "            pre = head\n",
    "        \n",
    "        return dummy.next\n",
    "            "
   ]
  },
  {
   "cell_type": "code",
   "execution_count": 102,
   "metadata": {},
   "outputs": [],
   "source": [
    "# 递归\n",
    "# 递归到最底，然后逐渐向前填充\n",
    "class Solution25_3:\n",
    "    def reverseKGroup(self, head: ListNode, k: int) -> ListNode:\n",
    "        count = 0\n",
    "        tail = head\n",
    "        while count<k and tail!=None:\n",
    "            tail = tail.next\n",
    "            count += 1\n",
    "        \n",
    "        if count == k:\n",
    "            # 返回tail后面翻转好的子链表\n",
    "            tail = self.reverseKGroup(tail,k)\n",
    "            # 从head开始取节点连接到tail节点的前面，同时tail指针也要向前移动\n",
    "            while count>0:\n",
    "                tmp = head.next\n",
    "                head.next = tail\n",
    "                tail = head\n",
    "                head = tmp\n",
    "                count -= 1\n",
    "                \n",
    "            head = tail\n",
    "                \n",
    "        return head"
   ]
  },
  {
   "cell_type": "markdown",
   "metadata": {},
   "source": [
    "# 26. 删除排序数组中的重复项"
   ]
  },
  {
   "cell_type": "markdown",
   "metadata": {},
   "source": [
    "给定一个排序数组，你需要在原地删除重复出现的元素，使得每个元素只出现一次，返回移除后数组的新长度。    \n",
    "\n",
    "不要使用额外的数组空间，你必须在原地修改输入数组并在使用 O(1) 额外空间的条件下完成。    \n",
    "\n",
    "示例 1:   \n",
    "```\n",
    "给定数组 nums = [1,1,2],    \n",
    "\n",
    "函数应该返回新的长度 2, 并且原数组 nums 的前两个元素被修改为 1, 2。    \n",
    "\n",
    "你不需要考虑数组中超出新长度后面的元素。\n",
    "```\n",
    "示例 2:   \n",
    "```\n",
    "给定 nums = [0,0,1,1,1,2,2,3,3,4],   \n",
    "\n",
    "函数应该返回新的长度 5, 并且原数组 nums 的前五个元素被修改为 0, 1, 2, 3, 4。   \n",
    "\n",
    "你不需要考虑数组中超出新长度后面的元素。   \n",
    "```\n",
    "来源：力扣（LeetCode）  \n",
    "链接：https://leetcode-cn.com/problems/remove-duplicates-from-sorted-array   \n",
    "著作权归领扣网络所有。商业转载请联系官方授权，非商业转载请注明出处。   "
   ]
  },
  {
   "cell_type": "code",
   "execution_count": 13,
   "metadata": {},
   "outputs": [],
   "source": [
    "# 双指针\n",
    "class Solution26:\n",
    "    def removeDuplicates(self, nums: List[int]) -> int:\n",
    "        i = 0;\n",
    "        j = 1\n",
    "        k = 0\n",
    "        arr_size = len(nums)\n",
    "        \n",
    "        while k<arr_size-1:\n",
    "            if nums[i]==nums[j]:\n",
    "                nums.pop(j)\n",
    "            else:\n",
    "                i += 1\n",
    "            j = i+1\n",
    "            k += 1\n",
    "        return len(nums)"
   ]
  },
  {
   "cell_type": "code",
   "execution_count": 14,
   "metadata": {},
   "outputs": [],
   "source": [
    "# 双指针\n",
    "class Solution26_2:\n",
    "    def removeDuplicates(self, nums: List[int]) -> int:\n",
    "        i = 0\n",
    "        for j in range(len(nums)):\n",
    "            if nums[i]!=nums[j]:\n",
    "                i += 1\n",
    "                nums[i] = nums[j]\n",
    "        return i+1"
   ]
  },
  {
   "cell_type": "code",
   "execution_count": 12,
   "metadata": {},
   "outputs": [
    {
     "data": {
      "text/plain": [
       "2"
      ]
     },
     "execution_count": 12,
     "metadata": {},
     "output_type": "execute_result"
    }
   ],
   "source": [
    "s = Solution26()\n",
    "nums = [1,1,2]\n",
    "s.removeDuplicates(nums)"
   ]
  },
  {
   "cell_type": "markdown",
   "metadata": {},
   "source": [
    "# 27. 移除元素"
   ]
  },
  {
   "cell_type": "markdown",
   "metadata": {},
   "source": [
    "给定一个数组 nums 和一个值 val，你需要原地移除所有数值等于 val 的元素，返回移除后数组的新长度。   \n",
    "\n",
    "不要使用额外的数组空间，你必须在原地修改输入数组并在使用 O(1) 额外空间的条件下完成。   \n",
    "\n",
    "元素的顺序可以改变。你不需要考虑数组中超出新长度后面的元素。   \n",
    "\n",
    "示例 1:   \n",
    "```\n",
    "给定 nums = [3,2,2,3], val = 3,   \n",
    "\n",
    "函数应该返回新的长度 2, 并且 nums 中的前两个元素均为 2。   \n",
    "\n",
    "你不需要考虑数组中超出新长度后面的元素。   \n",
    "```\n",
    "示例 2:   \n",
    "``` \n",
    "给定 nums = [0,1,2,2,3,0,4,2], val = 2,   \n",
    "\n",
    "函数应该返回新的长度 5, 并且 nums 中的前五个元素为 0, 1, 3, 0, 4。   \n",
    "\n",
    "注意这五个元素可为任意顺序。   \n",
    "\n",
    "你不需要考虑数组中超出新长度后面的元素。   \n",
    "```\n",
    "来源：力扣（LeetCode）   \n",
    "链接：https://leetcode-cn.com/problems/remove-element   \n",
    "著作权归领扣网络所有。商业转载请联系官方授权，非商业转载请注明出处。   "
   ]
  },
  {
   "cell_type": "code",
   "execution_count": 15,
   "metadata": {},
   "outputs": [],
   "source": [
    "class Solution27:\n",
    "    def removeElement(self, nums: List[int], val: int) -> int:\n",
    "        i = 0\n",
    "        for j in range(len(nums)):\n",
    "            if nums[j]!=val:\n",
    "                nums[i] = nums[j]\n",
    "                i += 1\n",
    "        return i\n",
    "        "
   ]
  },
  {
   "cell_type": "markdown",
   "metadata": {},
   "source": [
    "# 28. 实现strStr"
   ]
  },
  {
   "cell_type": "markdown",
   "metadata": {},
   "source": [
    "给定一个 haystack 字符串和一个 needle 字符串，在 haystack 字符串中找出 needle 字符串出现的第一个位置 (从0开始)。如果不存在，则返回-1。   \n",
    "\n",
    "示例 1:   \n",
    "```\n",
    "输入: haystack = \"hello\", needle = \"ll\"   \n",
    "输出: 2   \n",
    "```\n",
    "示例 2:   \n",
    "```\n",
    "输入: haystack = \"aaaaa\", needle = \"bba\"   \n",
    "输出: -1   \n",
    "```\n",
    "说明:   \n",
    "\n",
    "当 needle 是空字符串时，我们应当返回什么值呢？这是一个在面试中很好的问题。   \n",
    "\n",
    "对于本题而言，当 needle 是空字符串时我们应当返回 0 。这与C语言的 strstr() 以及 Java的 indexOf() 定义相符。   \n",
    "\n",
    "来源：力扣（LeetCode）   \n",
    "链接：https://leetcode-cn.com/problems/implement-strstr   \n",
    "著作权归领扣网络所有。商业转载请联系官方授权，非商业转载请注明出处。   "
   ]
  },
  {
   "cell_type": "markdown",
   "metadata": {},
   "source": []
  },
  {
   "cell_type": "code",
   "execution_count": 19,
   "metadata": {},
   "outputs": [],
   "source": [
    "# 超时\n",
    "class Solution28:\n",
    "    def strStr(self, haystack: str, needle: str) -> int:\n",
    "        \n",
    "        needle_size = len(needle)\n",
    "        haystack_size = len(haystack)\n",
    "        \n",
    "        if needle_size == 0 :\n",
    "            return 0\n",
    "        \n",
    "        for i in range(haystack_size):\n",
    "            if haystack[i] != needle[0]:\n",
    "                continue\n",
    "            for j in range(needle_size):\n",
    "                if (i+j) >= haystack_size:\n",
    "                    break\n",
    "                elif haystack[i+j] != needle[j]:\n",
    "                    break\n",
    "                elif haystack[i+j] == needle[j] and j == needle_size-1:\n",
    "                    return i\n",
    "        return -1"
   ]
  },
  {
   "cell_type": "code",
   "execution_count": 22,
   "metadata": {},
   "outputs": [],
   "source": [
    "# 略微优化\n",
    "class Solution28_2:\n",
    "    def strStr(self, haystack: str, needle: str) -> int:\n",
    "        \n",
    "        needle_size = len(needle)\n",
    "        haystack_size = len(haystack)\n",
    "        \n",
    "        if needle_size == 0 :\n",
    "            return 0\n",
    "        if needle_size > haystack_size:\n",
    "            return -1\n",
    "        if needle_size == haystack_size:\n",
    "            return 0 if haystack == needle else -1\n",
    "        \n",
    "        for i in range(haystack_size-needle_size+1):\n",
    "            k = 0 \n",
    "            if haystack[i] != needle[0]:\n",
    "                continue\n",
    "            for j in range(needle_size):\n",
    "                if haystack[i+j] != needle[j]:\n",
    "                    break\n",
    "                else:\n",
    "                    k += 1\n",
    "            if k==needle_size:\n",
    "                return i\n",
    "        return -1"
   ]
  },
  {
   "cell_type": "markdown",
   "metadata": {},
   "source": [
    "# 29. 两数相除"
   ]
  },
  {
   "cell_type": "markdown",
   "metadata": {},
   "source": [
    "给定两个整数，被除数 dividend 和除数 divisor。将两数相除，要求不使用乘法、除法和 mod 运算符。   \n",
    "\n",
    "返回被除数 dividend 除以除数 divisor 得到的商。   \n",
    "\n",
    "示例 1:   \n",
    "```\n",
    "输入: dividend = 10, divisor = 3   \n",
    "输出: 3   \n",
    "```\n",
    "示例 2:   \n",
    "```\n",
    "输入: dividend = 7, divisor = -3   \n",
    "输出: -2   \n",
    "```\n",
    "说明:   \n",
    "\n",
    "被除数和除数均为 32 位有符号整数。   \n",
    "除数不为 0。   \n",
    "假设我们的环境只能存储 32 位有符号整数，其数值范围是 [−231,  231 − 1]。本题中，如果除法结果溢出，则返回 231 − 1。   \n",
    "\n",
    "来源：力扣（LeetCode）   \n",
    "链接：https://leetcode-cn.com/problems/divide-two-integers   \n",
    "著作权归领扣网络所有。商业转载请联系官方授权，非商业转载请注明出处。   "
   ]
  },
  {
   "cell_type": "code",
   "execution_count": 25,
   "metadata": {},
   "outputs": [],
   "source": [
    "# 超时\n",
    "class Solution29:\n",
    "    def divide(self, dividend: int, divisor: int) -> int:\n",
    "        flag = 1\n",
    "        \n",
    "        if dividend==0:\n",
    "            return 0\n",
    "        \n",
    "        if dividend<0 and divisor>0 or dividend>0 and divisor<0:\n",
    "            flag = -1\n",
    "        a = abs(dividend)\n",
    "        b = abs(divisor)\n",
    "        \n",
    "        res = 0\n",
    "        while a>=b:\n",
    "            res+=1\n",
    "            a -= b\n",
    "        if flag == -1:\n",
    "            res = -res\n",
    "        return res"
   ]
  },
  {
   "cell_type": "code",
   "execution_count": 65,
   "metadata": {},
   "outputs": [],
   "source": [
    "class Solution:\n",
    "    def divide(self, dividend: int, divisor: int) -> int:\n",
    "        flag = 1\n",
    "        \n",
    "        if dividend==0:\n",
    "            return 0\n",
    "        \n",
    "        if dividend<0 and divisor>0 or dividend>0 and divisor<0:\n",
    "            flag = -1\n",
    "        a = abs(dividend)\n",
    "        b = abs(divisor)\n",
    "        \n",
    "        res = 0\n",
    "        \n",
    "        # 通过位运算找到商\n",
    "        while a>=b:\n",
    "            k = 1\n",
    "            base = b\n",
    "            while a > (base):\n",
    "                k = 1<<1\n",
    "                base = base<<1\n",
    "                print(base)\n",
    "            a -= base\n",
    "            res += k\n",
    "            \n",
    "        if flag == -1:\n",
    "            res = -res\n",
    "        return res"
   ]
  },
  {
   "cell_type": "code",
   "execution_count": 66,
   "metadata": {},
   "outputs": [
    {
     "name": "stdout",
     "output_type": "stream",
     "text": [
      "6\n",
      "12\n"
     ]
    },
    {
     "data": {
      "text/plain": [
       "-2"
      ]
     },
     "execution_count": 66,
     "metadata": {},
     "output_type": "execute_result"
    }
   ],
   "source": [
    "s =Solution()\n",
    "s.divide(7,-3)"
   ]
  },
  {
   "cell_type": "code",
   "execution_count": 67,
   "metadata": {},
   "outputs": [
    {
     "data": {
      "text/plain": [
       "-4"
      ]
     },
     "execution_count": 67,
     "metadata": {},
     "output_type": "execute_result"
    }
   ],
   "source": [
    "-2<<1"
   ]
  },
  {
   "cell_type": "code",
   "execution_count": 68,
   "metadata": {},
   "outputs": [
    {
     "data": {
      "text/plain": [
       "6"
      ]
     },
     "execution_count": 68,
     "metadata": {},
     "output_type": "execute_result"
    }
   ],
   "source": [
    "3<<1"
   ]
  },
  {
   "cell_type": "code",
   "execution_count": 78,
   "metadata": {},
   "outputs": [
    {
     "data": {
      "text/plain": [
       "1"
      ]
     },
     "execution_count": 78,
     "metadata": {},
     "output_type": "execute_result"
    }
   ],
   "source": [
    "k=1\n",
    "base = -2\n",
    "while -1<(base<<1):\n",
    "    k= k<<1\n",
    "    base = base<<1\n",
    "    print(base)\n",
    "k"
   ]
  },
  {
   "cell_type": "code",
   "execution_count": 80,
   "metadata": {},
   "outputs": [
    {
     "data": {
      "text/plain": [
       "2147483648"
      ]
     },
     "execution_count": 80,
     "metadata": {},
     "output_type": "execute_result"
    }
   ],
   "source": [
    "2**31"
   ]
  },
  {
   "cell_type": "code",
   "execution_count": null,
   "metadata": {},
   "outputs": [],
   "source": []
  }
 ],
 "metadata": {
  "kernelspec": {
   "display_name": "Python 3",
   "language": "python",
   "name": "python3"
  },
  "language_info": {
   "codemirror_mode": {
    "name": "ipython",
    "version": 3
   },
   "file_extension": ".py",
   "mimetype": "text/x-python",
   "name": "python",
   "nbconvert_exporter": "python",
   "pygments_lexer": "ipython3",
   "version": "3.7.3"
  }
 },
 "nbformat": 4,
 "nbformat_minor": 2
}
